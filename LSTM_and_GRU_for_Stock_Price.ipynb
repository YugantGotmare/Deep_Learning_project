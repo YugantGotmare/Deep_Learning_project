{
  "nbformat": 4,
  "nbformat_minor": 0,
  "metadata": {
    "colab": {
      "provenance": [],
      "gpuType": "T4",
      "authorship_tag": "ABX9TyM/sin1h8idahW/lrSzL1gv",
      "include_colab_link": true
    },
    "kernelspec": {
      "name": "python3",
      "display_name": "Python 3"
    },
    "language_info": {
      "name": "python"
    },
    "accelerator": "GPU"
  },
  "cells": [
    {
      "cell_type": "markdown",
      "metadata": {
        "id": "view-in-github",
        "colab_type": "text"
      },
      "source": [
        "<a href=\"https://colab.research.google.com/github/YugantGotmare/Deep_learning_project/blob/main/LSTM_and_GRU_for_Stock_Price.ipynb\" target=\"_parent\"><img src=\"https://colab.research.google.com/assets/colab-badge.svg\" alt=\"Open In Colab\"/></a>"
      ]
    },
    {
      "cell_type": "code",
      "execution_count": null,
      "metadata": {
        "id": "H4J0Wg7_NSFt"
      },
      "outputs": [],
      "source": [
        "# Importing the libraries\n",
        "import numpy as np\n",
        "import pandas as pd\n",
        "import matplotlib.pyplot as plt\n",
        "\n",
        "from sklearn.preprocessing import MinMaxScaler\n",
        "from sklearn.metrics import mean_squared_error\n",
        "\n",
        "from tensorflow.keras.models import Sequential\n",
        "from tensorflow.keras.layers import Dense, LSTM, Dropout, GRU, Bidirectional\n",
        "from tensorflow.keras.optimizers import SGD\n",
        "from tensorflow.random import set_seed\n",
        "\n",
        "import yfinance as yf\n",
        "import os\n",
        "\n",
        "set_seed(455)\n",
        "np.random.seed(455)"
      ]
    },
    {
      "cell_type": "code",
      "source": [
        "df = pd.read_csv(\n",
        "    \"/content/Mastercard_stock_history.csv\", index_col=\"Date\", parse_dates=[\"Date\"]\n",
        ").drop([\"Dividends\", \"Stock Splits\"], axis=1)\n",
        "df.head()"
      ],
      "metadata": {
        "colab": {
          "base_uri": "https://localhost:8080/",
          "height": 237
        },
        "id": "_U9oAEsUNX8h",
        "outputId": "a3bf6059-e188-4c10-8c37-7e85b89036e9"
      },
      "execution_count": null,
      "outputs": [
        {
          "output_type": "execute_result",
          "data": {
            "text/plain": [
              "                Open      High       Low     Close     Volume\n",
              "Date                                                         \n",
              "2006-05-25  3.748967  4.283869  3.739664  4.279217  395343000\n",
              "2006-05-26  4.307126  4.348058  4.103398  4.179680  103044000\n",
              "2006-05-30  4.183400  4.184330  3.986184  4.093164   49898000\n",
              "2006-05-31  4.125723  4.219679  4.125723  4.180608   30002000\n",
              "2006-06-01  4.179678  4.474572  4.176887  4.419686   62344000"
            ],
            "text/html": [
              "\n",
              "  <div id=\"df-7ab15d40-bdbd-4777-aa1f-0a7ee12b8890\" class=\"colab-df-container\">\n",
              "    <div>\n",
              "<style scoped>\n",
              "    .dataframe tbody tr th:only-of-type {\n",
              "        vertical-align: middle;\n",
              "    }\n",
              "\n",
              "    .dataframe tbody tr th {\n",
              "        vertical-align: top;\n",
              "    }\n",
              "\n",
              "    .dataframe thead th {\n",
              "        text-align: right;\n",
              "    }\n",
              "</style>\n",
              "<table border=\"1\" class=\"dataframe\">\n",
              "  <thead>\n",
              "    <tr style=\"text-align: right;\">\n",
              "      <th></th>\n",
              "      <th>Open</th>\n",
              "      <th>High</th>\n",
              "      <th>Low</th>\n",
              "      <th>Close</th>\n",
              "      <th>Volume</th>\n",
              "    </tr>\n",
              "    <tr>\n",
              "      <th>Date</th>\n",
              "      <th></th>\n",
              "      <th></th>\n",
              "      <th></th>\n",
              "      <th></th>\n",
              "      <th></th>\n",
              "    </tr>\n",
              "  </thead>\n",
              "  <tbody>\n",
              "    <tr>\n",
              "      <th>2006-05-25</th>\n",
              "      <td>3.748967</td>\n",
              "      <td>4.283869</td>\n",
              "      <td>3.739664</td>\n",
              "      <td>4.279217</td>\n",
              "      <td>395343000</td>\n",
              "    </tr>\n",
              "    <tr>\n",
              "      <th>2006-05-26</th>\n",
              "      <td>4.307126</td>\n",
              "      <td>4.348058</td>\n",
              "      <td>4.103398</td>\n",
              "      <td>4.179680</td>\n",
              "      <td>103044000</td>\n",
              "    </tr>\n",
              "    <tr>\n",
              "      <th>2006-05-30</th>\n",
              "      <td>4.183400</td>\n",
              "      <td>4.184330</td>\n",
              "      <td>3.986184</td>\n",
              "      <td>4.093164</td>\n",
              "      <td>49898000</td>\n",
              "    </tr>\n",
              "    <tr>\n",
              "      <th>2006-05-31</th>\n",
              "      <td>4.125723</td>\n",
              "      <td>4.219679</td>\n",
              "      <td>4.125723</td>\n",
              "      <td>4.180608</td>\n",
              "      <td>30002000</td>\n",
              "    </tr>\n",
              "    <tr>\n",
              "      <th>2006-06-01</th>\n",
              "      <td>4.179678</td>\n",
              "      <td>4.474572</td>\n",
              "      <td>4.176887</td>\n",
              "      <td>4.419686</td>\n",
              "      <td>62344000</td>\n",
              "    </tr>\n",
              "  </tbody>\n",
              "</table>\n",
              "</div>\n",
              "    <div class=\"colab-df-buttons\">\n",
              "\n",
              "  <div class=\"colab-df-container\">\n",
              "    <button class=\"colab-df-convert\" onclick=\"convertToInteractive('df-7ab15d40-bdbd-4777-aa1f-0a7ee12b8890')\"\n",
              "            title=\"Convert this dataframe to an interactive table.\"\n",
              "            style=\"display:none;\">\n",
              "\n",
              "  <svg xmlns=\"http://www.w3.org/2000/svg\" height=\"24px\" viewBox=\"0 -960 960 960\">\n",
              "    <path d=\"M120-120v-720h720v720H120Zm60-500h600v-160H180v160Zm220 220h160v-160H400v160Zm0 220h160v-160H400v160ZM180-400h160v-160H180v160Zm440 0h160v-160H620v160ZM180-180h160v-160H180v160Zm440 0h160v-160H620v160Z\"/>\n",
              "  </svg>\n",
              "    </button>\n",
              "\n",
              "  <style>\n",
              "    .colab-df-container {\n",
              "      display:flex;\n",
              "      gap: 12px;\n",
              "    }\n",
              "\n",
              "    .colab-df-convert {\n",
              "      background-color: #E8F0FE;\n",
              "      border: none;\n",
              "      border-radius: 50%;\n",
              "      cursor: pointer;\n",
              "      display: none;\n",
              "      fill: #1967D2;\n",
              "      height: 32px;\n",
              "      padding: 0 0 0 0;\n",
              "      width: 32px;\n",
              "    }\n",
              "\n",
              "    .colab-df-convert:hover {\n",
              "      background-color: #E2EBFA;\n",
              "      box-shadow: 0px 1px 2px rgba(60, 64, 67, 0.3), 0px 1px 3px 1px rgba(60, 64, 67, 0.15);\n",
              "      fill: #174EA6;\n",
              "    }\n",
              "\n",
              "    .colab-df-buttons div {\n",
              "      margin-bottom: 4px;\n",
              "    }\n",
              "\n",
              "    [theme=dark] .colab-df-convert {\n",
              "      background-color: #3B4455;\n",
              "      fill: #D2E3FC;\n",
              "    }\n",
              "\n",
              "    [theme=dark] .colab-df-convert:hover {\n",
              "      background-color: #434B5C;\n",
              "      box-shadow: 0px 1px 3px 1px rgba(0, 0, 0, 0.15);\n",
              "      filter: drop-shadow(0px 1px 2px rgba(0, 0, 0, 0.3));\n",
              "      fill: #FFFFFF;\n",
              "    }\n",
              "  </style>\n",
              "\n",
              "    <script>\n",
              "      const buttonEl =\n",
              "        document.querySelector('#df-7ab15d40-bdbd-4777-aa1f-0a7ee12b8890 button.colab-df-convert');\n",
              "      buttonEl.style.display =\n",
              "        google.colab.kernel.accessAllowed ? 'block' : 'none';\n",
              "\n",
              "      async function convertToInteractive(key) {\n",
              "        const element = document.querySelector('#df-7ab15d40-bdbd-4777-aa1f-0a7ee12b8890');\n",
              "        const dataTable =\n",
              "          await google.colab.kernel.invokeFunction('convertToInteractive',\n",
              "                                                    [key], {});\n",
              "        if (!dataTable) return;\n",
              "\n",
              "        const docLinkHtml = 'Like what you see? Visit the ' +\n",
              "          '<a target=\"_blank\" href=https://colab.research.google.com/notebooks/data_table.ipynb>data table notebook</a>'\n",
              "          + ' to learn more about interactive tables.';\n",
              "        element.innerHTML = '';\n",
              "        dataTable['output_type'] = 'display_data';\n",
              "        await google.colab.output.renderOutput(dataTable, element);\n",
              "        const docLink = document.createElement('div');\n",
              "        docLink.innerHTML = docLinkHtml;\n",
              "        element.appendChild(docLink);\n",
              "      }\n",
              "    </script>\n",
              "  </div>\n",
              "\n",
              "\n",
              "<div id=\"df-480c4f02-fb31-4ff4-a9f5-38cbade05222\">\n",
              "  <button class=\"colab-df-quickchart\" onclick=\"quickchart('df-480c4f02-fb31-4ff4-a9f5-38cbade05222')\"\n",
              "            title=\"Suggest charts\"\n",
              "            style=\"display:none;\">\n",
              "\n",
              "<svg xmlns=\"http://www.w3.org/2000/svg\" height=\"24px\"viewBox=\"0 0 24 24\"\n",
              "     width=\"24px\">\n",
              "    <g>\n",
              "        <path d=\"M19 3H5c-1.1 0-2 .9-2 2v14c0 1.1.9 2 2 2h14c1.1 0 2-.9 2-2V5c0-1.1-.9-2-2-2zM9 17H7v-7h2v7zm4 0h-2V7h2v10zm4 0h-2v-4h2v4z\"/>\n",
              "    </g>\n",
              "</svg>\n",
              "  </button>\n",
              "\n",
              "<style>\n",
              "  .colab-df-quickchart {\n",
              "      --bg-color: #E8F0FE;\n",
              "      --fill-color: #1967D2;\n",
              "      --hover-bg-color: #E2EBFA;\n",
              "      --hover-fill-color: #174EA6;\n",
              "      --disabled-fill-color: #AAA;\n",
              "      --disabled-bg-color: #DDD;\n",
              "  }\n",
              "\n",
              "  [theme=dark] .colab-df-quickchart {\n",
              "      --bg-color: #3B4455;\n",
              "      --fill-color: #D2E3FC;\n",
              "      --hover-bg-color: #434B5C;\n",
              "      --hover-fill-color: #FFFFFF;\n",
              "      --disabled-bg-color: #3B4455;\n",
              "      --disabled-fill-color: #666;\n",
              "  }\n",
              "\n",
              "  .colab-df-quickchart {\n",
              "    background-color: var(--bg-color);\n",
              "    border: none;\n",
              "    border-radius: 50%;\n",
              "    cursor: pointer;\n",
              "    display: none;\n",
              "    fill: var(--fill-color);\n",
              "    height: 32px;\n",
              "    padding: 0;\n",
              "    width: 32px;\n",
              "  }\n",
              "\n",
              "  .colab-df-quickchart:hover {\n",
              "    background-color: var(--hover-bg-color);\n",
              "    box-shadow: 0 1px 2px rgba(60, 64, 67, 0.3), 0 1px 3px 1px rgba(60, 64, 67, 0.15);\n",
              "    fill: var(--button-hover-fill-color);\n",
              "  }\n",
              "\n",
              "  .colab-df-quickchart-complete:disabled,\n",
              "  .colab-df-quickchart-complete:disabled:hover {\n",
              "    background-color: var(--disabled-bg-color);\n",
              "    fill: var(--disabled-fill-color);\n",
              "    box-shadow: none;\n",
              "  }\n",
              "\n",
              "  .colab-df-spinner {\n",
              "    border: 2px solid var(--fill-color);\n",
              "    border-color: transparent;\n",
              "    border-bottom-color: var(--fill-color);\n",
              "    animation:\n",
              "      spin 1s steps(1) infinite;\n",
              "  }\n",
              "\n",
              "  @keyframes spin {\n",
              "    0% {\n",
              "      border-color: transparent;\n",
              "      border-bottom-color: var(--fill-color);\n",
              "      border-left-color: var(--fill-color);\n",
              "    }\n",
              "    20% {\n",
              "      border-color: transparent;\n",
              "      border-left-color: var(--fill-color);\n",
              "      border-top-color: var(--fill-color);\n",
              "    }\n",
              "    30% {\n",
              "      border-color: transparent;\n",
              "      border-left-color: var(--fill-color);\n",
              "      border-top-color: var(--fill-color);\n",
              "      border-right-color: var(--fill-color);\n",
              "    }\n",
              "    40% {\n",
              "      border-color: transparent;\n",
              "      border-right-color: var(--fill-color);\n",
              "      border-top-color: var(--fill-color);\n",
              "    }\n",
              "    60% {\n",
              "      border-color: transparent;\n",
              "      border-right-color: var(--fill-color);\n",
              "    }\n",
              "    80% {\n",
              "      border-color: transparent;\n",
              "      border-right-color: var(--fill-color);\n",
              "      border-bottom-color: var(--fill-color);\n",
              "    }\n",
              "    90% {\n",
              "      border-color: transparent;\n",
              "      border-bottom-color: var(--fill-color);\n",
              "    }\n",
              "  }\n",
              "</style>\n",
              "\n",
              "  <script>\n",
              "    async function quickchart(key) {\n",
              "      const quickchartButtonEl =\n",
              "        document.querySelector('#' + key + ' button');\n",
              "      quickchartButtonEl.disabled = true;  // To prevent multiple clicks.\n",
              "      quickchartButtonEl.classList.add('colab-df-spinner');\n",
              "      try {\n",
              "        const charts = await google.colab.kernel.invokeFunction(\n",
              "            'suggestCharts', [key], {});\n",
              "      } catch (error) {\n",
              "        console.error('Error during call to suggestCharts:', error);\n",
              "      }\n",
              "      quickchartButtonEl.classList.remove('colab-df-spinner');\n",
              "      quickchartButtonEl.classList.add('colab-df-quickchart-complete');\n",
              "    }\n",
              "    (() => {\n",
              "      let quickchartButtonEl =\n",
              "        document.querySelector('#df-480c4f02-fb31-4ff4-a9f5-38cbade05222 button');\n",
              "      quickchartButtonEl.style.display =\n",
              "        google.colab.kernel.accessAllowed ? 'block' : 'none';\n",
              "    })();\n",
              "  </script>\n",
              "</div>\n",
              "    </div>\n",
              "  </div>\n"
            ]
          },
          "metadata": {},
          "execution_count": 8
        }
      ]
    },
    {
      "cell_type": "code",
      "source": [
        "df.describe()"
      ],
      "metadata": {
        "colab": {
          "base_uri": "https://localhost:8080/",
          "height": 300
        },
        "id": "8NXKqG2iN1gy",
        "outputId": "d7503c8f-3f04-4c20-8ae6-32d0ef43f978"
      },
      "execution_count": null,
      "outputs": [
        {
          "output_type": "execute_result",
          "data": {
            "text/plain": [
              "              Open         High          Low        Close        Volume\n",
              "count  3872.000000  3872.000000  3872.000000  3872.000000  3.872000e+03\n",
              "mean    104.896814   105.956054   103.769349   104.882714  1.232250e+07\n",
              "std     106.245511   107.303589   105.050064   106.168693  1.759665e+07\n",
              "min       3.748967     4.102467     3.739664     4.083861  6.411000e+05\n",
              "25%      22.347203    22.637997    22.034458    22.300391  3.529475e+06\n",
              "50%      70.810079    71.375896    70.224002    70.856083  5.891750e+06\n",
              "75%     147.688448   148.645373   146.822013   147.688438  1.319775e+07\n",
              "max     392.653890   400.521479   389.747812   394.685730  3.953430e+08"
            ],
            "text/html": [
              "\n",
              "  <div id=\"df-d4f529d7-9d8c-4f78-a798-1ca03a8ece27\" class=\"colab-df-container\">\n",
              "    <div>\n",
              "<style scoped>\n",
              "    .dataframe tbody tr th:only-of-type {\n",
              "        vertical-align: middle;\n",
              "    }\n",
              "\n",
              "    .dataframe tbody tr th {\n",
              "        vertical-align: top;\n",
              "    }\n",
              "\n",
              "    .dataframe thead th {\n",
              "        text-align: right;\n",
              "    }\n",
              "</style>\n",
              "<table border=\"1\" class=\"dataframe\">\n",
              "  <thead>\n",
              "    <tr style=\"text-align: right;\">\n",
              "      <th></th>\n",
              "      <th>Open</th>\n",
              "      <th>High</th>\n",
              "      <th>Low</th>\n",
              "      <th>Close</th>\n",
              "      <th>Volume</th>\n",
              "    </tr>\n",
              "  </thead>\n",
              "  <tbody>\n",
              "    <tr>\n",
              "      <th>count</th>\n",
              "      <td>3872.000000</td>\n",
              "      <td>3872.000000</td>\n",
              "      <td>3872.000000</td>\n",
              "      <td>3872.000000</td>\n",
              "      <td>3.872000e+03</td>\n",
              "    </tr>\n",
              "    <tr>\n",
              "      <th>mean</th>\n",
              "      <td>104.896814</td>\n",
              "      <td>105.956054</td>\n",
              "      <td>103.769349</td>\n",
              "      <td>104.882714</td>\n",
              "      <td>1.232250e+07</td>\n",
              "    </tr>\n",
              "    <tr>\n",
              "      <th>std</th>\n",
              "      <td>106.245511</td>\n",
              "      <td>107.303589</td>\n",
              "      <td>105.050064</td>\n",
              "      <td>106.168693</td>\n",
              "      <td>1.759665e+07</td>\n",
              "    </tr>\n",
              "    <tr>\n",
              "      <th>min</th>\n",
              "      <td>3.748967</td>\n",
              "      <td>4.102467</td>\n",
              "      <td>3.739664</td>\n",
              "      <td>4.083861</td>\n",
              "      <td>6.411000e+05</td>\n",
              "    </tr>\n",
              "    <tr>\n",
              "      <th>25%</th>\n",
              "      <td>22.347203</td>\n",
              "      <td>22.637997</td>\n",
              "      <td>22.034458</td>\n",
              "      <td>22.300391</td>\n",
              "      <td>3.529475e+06</td>\n",
              "    </tr>\n",
              "    <tr>\n",
              "      <th>50%</th>\n",
              "      <td>70.810079</td>\n",
              "      <td>71.375896</td>\n",
              "      <td>70.224002</td>\n",
              "      <td>70.856083</td>\n",
              "      <td>5.891750e+06</td>\n",
              "    </tr>\n",
              "    <tr>\n",
              "      <th>75%</th>\n",
              "      <td>147.688448</td>\n",
              "      <td>148.645373</td>\n",
              "      <td>146.822013</td>\n",
              "      <td>147.688438</td>\n",
              "      <td>1.319775e+07</td>\n",
              "    </tr>\n",
              "    <tr>\n",
              "      <th>max</th>\n",
              "      <td>392.653890</td>\n",
              "      <td>400.521479</td>\n",
              "      <td>389.747812</td>\n",
              "      <td>394.685730</td>\n",
              "      <td>3.953430e+08</td>\n",
              "    </tr>\n",
              "  </tbody>\n",
              "</table>\n",
              "</div>\n",
              "    <div class=\"colab-df-buttons\">\n",
              "\n",
              "  <div class=\"colab-df-container\">\n",
              "    <button class=\"colab-df-convert\" onclick=\"convertToInteractive('df-d4f529d7-9d8c-4f78-a798-1ca03a8ece27')\"\n",
              "            title=\"Convert this dataframe to an interactive table.\"\n",
              "            style=\"display:none;\">\n",
              "\n",
              "  <svg xmlns=\"http://www.w3.org/2000/svg\" height=\"24px\" viewBox=\"0 -960 960 960\">\n",
              "    <path d=\"M120-120v-720h720v720H120Zm60-500h600v-160H180v160Zm220 220h160v-160H400v160Zm0 220h160v-160H400v160ZM180-400h160v-160H180v160Zm440 0h160v-160H620v160ZM180-180h160v-160H180v160Zm440 0h160v-160H620v160Z\"/>\n",
              "  </svg>\n",
              "    </button>\n",
              "\n",
              "  <style>\n",
              "    .colab-df-container {\n",
              "      display:flex;\n",
              "      gap: 12px;\n",
              "    }\n",
              "\n",
              "    .colab-df-convert {\n",
              "      background-color: #E8F0FE;\n",
              "      border: none;\n",
              "      border-radius: 50%;\n",
              "      cursor: pointer;\n",
              "      display: none;\n",
              "      fill: #1967D2;\n",
              "      height: 32px;\n",
              "      padding: 0 0 0 0;\n",
              "      width: 32px;\n",
              "    }\n",
              "\n",
              "    .colab-df-convert:hover {\n",
              "      background-color: #E2EBFA;\n",
              "      box-shadow: 0px 1px 2px rgba(60, 64, 67, 0.3), 0px 1px 3px 1px rgba(60, 64, 67, 0.15);\n",
              "      fill: #174EA6;\n",
              "    }\n",
              "\n",
              "    .colab-df-buttons div {\n",
              "      margin-bottom: 4px;\n",
              "    }\n",
              "\n",
              "    [theme=dark] .colab-df-convert {\n",
              "      background-color: #3B4455;\n",
              "      fill: #D2E3FC;\n",
              "    }\n",
              "\n",
              "    [theme=dark] .colab-df-convert:hover {\n",
              "      background-color: #434B5C;\n",
              "      box-shadow: 0px 1px 3px 1px rgba(0, 0, 0, 0.15);\n",
              "      filter: drop-shadow(0px 1px 2px rgba(0, 0, 0, 0.3));\n",
              "      fill: #FFFFFF;\n",
              "    }\n",
              "  </style>\n",
              "\n",
              "    <script>\n",
              "      const buttonEl =\n",
              "        document.querySelector('#df-d4f529d7-9d8c-4f78-a798-1ca03a8ece27 button.colab-df-convert');\n",
              "      buttonEl.style.display =\n",
              "        google.colab.kernel.accessAllowed ? 'block' : 'none';\n",
              "\n",
              "      async function convertToInteractive(key) {\n",
              "        const element = document.querySelector('#df-d4f529d7-9d8c-4f78-a798-1ca03a8ece27');\n",
              "        const dataTable =\n",
              "          await google.colab.kernel.invokeFunction('convertToInteractive',\n",
              "                                                    [key], {});\n",
              "        if (!dataTable) return;\n",
              "\n",
              "        const docLinkHtml = 'Like what you see? Visit the ' +\n",
              "          '<a target=\"_blank\" href=https://colab.research.google.com/notebooks/data_table.ipynb>data table notebook</a>'\n",
              "          + ' to learn more about interactive tables.';\n",
              "        element.innerHTML = '';\n",
              "        dataTable['output_type'] = 'display_data';\n",
              "        await google.colab.output.renderOutput(dataTable, element);\n",
              "        const docLink = document.createElement('div');\n",
              "        docLink.innerHTML = docLinkHtml;\n",
              "        element.appendChild(docLink);\n",
              "      }\n",
              "    </script>\n",
              "  </div>\n",
              "\n",
              "\n",
              "<div id=\"df-f4769e2b-5f7d-45cd-ab32-bfa255c08ed2\">\n",
              "  <button class=\"colab-df-quickchart\" onclick=\"quickchart('df-f4769e2b-5f7d-45cd-ab32-bfa255c08ed2')\"\n",
              "            title=\"Suggest charts\"\n",
              "            style=\"display:none;\">\n",
              "\n",
              "<svg xmlns=\"http://www.w3.org/2000/svg\" height=\"24px\"viewBox=\"0 0 24 24\"\n",
              "     width=\"24px\">\n",
              "    <g>\n",
              "        <path d=\"M19 3H5c-1.1 0-2 .9-2 2v14c0 1.1.9 2 2 2h14c1.1 0 2-.9 2-2V5c0-1.1-.9-2-2-2zM9 17H7v-7h2v7zm4 0h-2V7h2v10zm4 0h-2v-4h2v4z\"/>\n",
              "    </g>\n",
              "</svg>\n",
              "  </button>\n",
              "\n",
              "<style>\n",
              "  .colab-df-quickchart {\n",
              "      --bg-color: #E8F0FE;\n",
              "      --fill-color: #1967D2;\n",
              "      --hover-bg-color: #E2EBFA;\n",
              "      --hover-fill-color: #174EA6;\n",
              "      --disabled-fill-color: #AAA;\n",
              "      --disabled-bg-color: #DDD;\n",
              "  }\n",
              "\n",
              "  [theme=dark] .colab-df-quickchart {\n",
              "      --bg-color: #3B4455;\n",
              "      --fill-color: #D2E3FC;\n",
              "      --hover-bg-color: #434B5C;\n",
              "      --hover-fill-color: #FFFFFF;\n",
              "      --disabled-bg-color: #3B4455;\n",
              "      --disabled-fill-color: #666;\n",
              "  }\n",
              "\n",
              "  .colab-df-quickchart {\n",
              "    background-color: var(--bg-color);\n",
              "    border: none;\n",
              "    border-radius: 50%;\n",
              "    cursor: pointer;\n",
              "    display: none;\n",
              "    fill: var(--fill-color);\n",
              "    height: 32px;\n",
              "    padding: 0;\n",
              "    width: 32px;\n",
              "  }\n",
              "\n",
              "  .colab-df-quickchart:hover {\n",
              "    background-color: var(--hover-bg-color);\n",
              "    box-shadow: 0 1px 2px rgba(60, 64, 67, 0.3), 0 1px 3px 1px rgba(60, 64, 67, 0.15);\n",
              "    fill: var(--button-hover-fill-color);\n",
              "  }\n",
              "\n",
              "  .colab-df-quickchart-complete:disabled,\n",
              "  .colab-df-quickchart-complete:disabled:hover {\n",
              "    background-color: var(--disabled-bg-color);\n",
              "    fill: var(--disabled-fill-color);\n",
              "    box-shadow: none;\n",
              "  }\n",
              "\n",
              "  .colab-df-spinner {\n",
              "    border: 2px solid var(--fill-color);\n",
              "    border-color: transparent;\n",
              "    border-bottom-color: var(--fill-color);\n",
              "    animation:\n",
              "      spin 1s steps(1) infinite;\n",
              "  }\n",
              "\n",
              "  @keyframes spin {\n",
              "    0% {\n",
              "      border-color: transparent;\n",
              "      border-bottom-color: var(--fill-color);\n",
              "      border-left-color: var(--fill-color);\n",
              "    }\n",
              "    20% {\n",
              "      border-color: transparent;\n",
              "      border-left-color: var(--fill-color);\n",
              "      border-top-color: var(--fill-color);\n",
              "    }\n",
              "    30% {\n",
              "      border-color: transparent;\n",
              "      border-left-color: var(--fill-color);\n",
              "      border-top-color: var(--fill-color);\n",
              "      border-right-color: var(--fill-color);\n",
              "    }\n",
              "    40% {\n",
              "      border-color: transparent;\n",
              "      border-right-color: var(--fill-color);\n",
              "      border-top-color: var(--fill-color);\n",
              "    }\n",
              "    60% {\n",
              "      border-color: transparent;\n",
              "      border-right-color: var(--fill-color);\n",
              "    }\n",
              "    80% {\n",
              "      border-color: transparent;\n",
              "      border-right-color: var(--fill-color);\n",
              "      border-bottom-color: var(--fill-color);\n",
              "    }\n",
              "    90% {\n",
              "      border-color: transparent;\n",
              "      border-bottom-color: var(--fill-color);\n",
              "    }\n",
              "  }\n",
              "</style>\n",
              "\n",
              "  <script>\n",
              "    async function quickchart(key) {\n",
              "      const quickchartButtonEl =\n",
              "        document.querySelector('#' + key + ' button');\n",
              "      quickchartButtonEl.disabled = true;  // To prevent multiple clicks.\n",
              "      quickchartButtonEl.classList.add('colab-df-spinner');\n",
              "      try {\n",
              "        const charts = await google.colab.kernel.invokeFunction(\n",
              "            'suggestCharts', [key], {});\n",
              "      } catch (error) {\n",
              "        console.error('Error during call to suggestCharts:', error);\n",
              "      }\n",
              "      quickchartButtonEl.classList.remove('colab-df-spinner');\n",
              "      quickchartButtonEl.classList.add('colab-df-quickchart-complete');\n",
              "    }\n",
              "    (() => {\n",
              "      let quickchartButtonEl =\n",
              "        document.querySelector('#df-f4769e2b-5f7d-45cd-ab32-bfa255c08ed2 button');\n",
              "      quickchartButtonEl.style.display =\n",
              "        google.colab.kernel.accessAllowed ? 'block' : 'none';\n",
              "    })();\n",
              "  </script>\n",
              "</div>\n",
              "    </div>\n",
              "  </div>\n"
            ]
          },
          "metadata": {},
          "execution_count": 9
        }
      ]
    },
    {
      "cell_type": "code",
      "source": [
        "df.isna().sum()"
      ],
      "metadata": {
        "colab": {
          "base_uri": "https://localhost:8080/"
        },
        "id": "yXE_qmiEN16F",
        "outputId": "2b6d540d-bb9f-41f0-9535-660662ffd4a0"
      },
      "execution_count": null,
      "outputs": [
        {
          "output_type": "execute_result",
          "data": {
            "text/plain": [
              "Open      0\n",
              "High      0\n",
              "Low       0\n",
              "Close     0\n",
              "Volume    0\n",
              "dtype: int64"
            ]
          },
          "metadata": {},
          "execution_count": 10
        }
      ]
    },
    {
      "cell_type": "code",
      "source": [
        "tstart = 2016\n",
        "tend = 2020\n",
        "\n",
        "def train_test_plot(df, tstart, tend):\n",
        "    df.loc[f\"{tstart}\":f\"{tend}\", \"High\"].plot(figsize=(16, 4), legend=True)\n",
        "    df.loc[f\"{tend+1}\":, \"High\"].plot(figsize=(16, 4), legend=True)\n",
        "    plt.legend([f\"Train (Before {tend+1})\", f\"Test ({tend+1} and beyond)\"])\n",
        "    plt.title(\"MasterCard stock price\")\n",
        "    plt.show()\n",
        "\n",
        "train_test_plot(df,tstart,tend)"
      ],
      "metadata": {
        "colab": {
          "base_uri": "https://localhost:8080/",
          "height": 390
        },
        "id": "0Vrr0FioN_Hv",
        "outputId": "f70c6fcc-4341-449e-b312-ed432e156847"
      },
      "execution_count": null,
      "outputs": [
        {
          "output_type": "display_data",
          "data": {
            "text/plain": [
              "<Figure size 1600x400 with 1 Axes>"
            ],
            "image/png": "[encoded data removed]"
          },
          "metadata": {}
        }
      ]
    },
    {
      "cell_type": "code",
      "source": [
        "def train_test_split(dataset, tstart, tend):\n",
        "    train = dataset.loc[f\"{tstart}\":f\"{tend}\", \"High\"].values\n",
        "    test = dataset.loc[f\"{tend+1}\":, \"High\"].values\n",
        "    return train, test\n",
        "training_set, test_set = train_test_split(dataset, tstart, tend)"
      ],
      "metadata": {
        "id": "tc8GN-a3ONJU"
      },
      "execution_count": null,
      "outputs": []
    },
    {
      "cell_type": "code",
      "source": [
        "sc = MinMaxScaler(feature_range=(0, 1))\n",
        "training_set = training_set.reshape(-1, 1)\n",
        "training_set_scaled = sc.fit_transform(training_set)"
      ],
      "metadata": {
        "id": "9kJpS1-POauZ"
      },
      "execution_count": null,
      "outputs": []
    },
    {
      "cell_type": "code",
      "source": [
        "def split_sequence(sequence, n_steps):\n",
        "    X, y = list(), list()\n",
        "    for i in range(len(sequence)):\n",
        "        end_ix = i + n_steps\n",
        "        if end_ix > len(sequence) - 1:\n",
        "            break\n",
        "        seq_x, seq_y = sequence[i:end_ix], sequence[end_ix]\n",
        "        X.append(seq_x)\n",
        "        y.append(seq_y)\n",
        "    return np.array(X), np.array(y)\n",
        "\n",
        "\n",
        "n_steps = 60\n",
        "features = 1\n",
        "# split into samples\n",
        "X_train, y_train = split_sequence(training_set_scaled, n_steps)"
      ],
      "metadata": {
        "id": "zpmovYrZOdPN"
      },
      "execution_count": null,
      "outputs": []
    },
    {
      "cell_type": "code",
      "source": [
        "# Reshaping X_train for model\n",
        "X_train = X_train.reshape(X_train.shape[0],X_train.shape[1],features)"
      ],
      "metadata": {
        "id": "9bMp1KXAOg37"
      },
      "execution_count": null,
      "outputs": []
    },
    {
      "cell_type": "code",
      "source": [
        "# The LSTM architecture\n",
        "model_lstm = Sequential()\n",
        "model_lstm.add(LSTM(units=125, activation=\"tanh\", input_shape=(n_steps, features)))\n",
        "model_lstm.add(Dense(units=1))\n",
        "# Compiling the model\n",
        "model_lstm.compile(optimizer=\"RMSprop\", loss=\"mse\")\n",
        "\n",
        "model_lstm.summary()"
      ],
      "metadata": {
        "colab": {
          "base_uri": "https://localhost:8080/"
        },
        "id": "PCE8Q-2HOjNN",
        "outputId": "4737ebd3-70d1-4a8a-a90e-40b470d70894"
      },
      "execution_count": null,
      "outputs": [
        {
          "output_type": "stream",
          "name": "stdout",
          "text": [
            "Model: \"sequential\"\n",
            "_________________________________________________________________\n",
            " Layer (type)                Output Shape              Param #   \n",
            "=================================================================\n",
            " lstm (LSTM)                 (None, 125)               63500     \n",
            "                                                                 \n",
            " dense (Dense)               (None, 1)                 126       \n",
            "                                                                 \n",
            "=================================================================\n",
            "Total params: 63626 (248.54 KB)\n",
            "Trainable params: 63626 (248.54 KB)\n",
            "Non-trainable params: 0 (0.00 Byte)\n",
            "_________________________________________________________________\n"
          ]
        }
      ]
    },
    {
      "cell_type": "code",
      "source": [
        "model_lstm.fit(X_train, y_train, epochs=50, batch_size=32)"
      ],
      "metadata": {
        "colab": {
          "base_uri": "https://localhost:8080/"
        },
        "id": "Ij9BFUcOOlo3",
        "outputId": "a2a1a888-175b-47a9-fae0-c8b506ed8a86"
      },
      "execution_count": null,
      "outputs": [
        {
          "output_type": "stream",
          "name": "stdout",
          "text": [
            "Epoch 1/50\n",
            "38/38 [==============================] - 7s 124ms/step - loss: 0.0139\n",
            "Epoch 2/50\n",
            "38/38 [==============================] - 3s 68ms/step - loss: 0.0026\n",
            "Epoch 3/50\n",
            "38/38 [==============================] - 3s 68ms/step - loss: 0.0023\n",
            "Epoch 4/50\n",
            "38/38 [==============================] - 3s 68ms/step - loss: 0.0019\n",
            "Epoch 5/50\n",
            "38/38 [==============================] - 3s 76ms/step - loss: 0.0015\n",
            "Epoch 6/50\n",
            "38/38 [==============================] - 5s 119ms/step - loss: 0.0016\n",
            "Epoch 7/50\n",
            "38/38 [==============================] - 3s 68ms/step - loss: 9.8384e-04\n",
            "Epoch 8/50\n",
            "38/38 [==============================] - 3s 68ms/step - loss: 0.0013\n",
            "Epoch 9/50\n",
            "38/38 [==============================] - 3s 68ms/step - loss: 0.0010\n",
            "Epoch 10/50\n",
            "38/38 [==============================] - 3s 78ms/step - loss: 0.0011\n",
            "Epoch 11/50\n",
            "38/38 [==============================] - 4s 117ms/step - loss: 8.4658e-04\n",
            "Epoch 12/50\n",
            "38/38 [==============================] - 3s 68ms/step - loss: 8.6799e-04\n",
            "Epoch 13/50\n",
            "38/38 [==============================] - 3s 68ms/step - loss: 8.7801e-04\n",
            "Epoch 14/50\n",
            "38/38 [==============================] - 3s 68ms/step - loss: 8.3006e-04\n",
            "Epoch 15/50\n",
            "38/38 [==============================] - 3s 80ms/step - loss: 7.7781e-04\n",
            "Epoch 16/50\n",
            "38/38 [==============================] - 4s 113ms/step - loss: 7.7459e-04\n",
            "Epoch 17/50\n",
            "38/38 [==============================] - 3s 68ms/step - loss: 7.3162e-04\n",
            "Epoch 18/50\n",
            "38/38 [==============================] - 3s 68ms/step - loss: 6.6022e-04\n",
            "Epoch 19/50\n",
            "38/38 [==============================] - 3s 68ms/step - loss: 6.1871e-04\n",
            "Epoch 20/50\n",
            "38/38 [==============================] - 3s 82ms/step - loss: 6.7045e-04\n",
            "Epoch 21/50\n",
            "38/38 [==============================] - 4s 114ms/step - loss: 6.7385e-04\n",
            "Epoch 22/50\n",
            "38/38 [==============================] - 3s 68ms/step - loss: 6.6328e-04\n",
            "Epoch 23/50\n",
            "38/38 [==============================] - 3s 67ms/step - loss: 5.5470e-04\n",
            "Epoch 24/50\n",
            "38/38 [==============================] - 3s 67ms/step - loss: 6.9891e-04\n",
            "Epoch 25/50\n",
            "38/38 [==============================] - 3s 82ms/step - loss: 6.3847e-04\n",
            "Epoch 26/50\n",
            "38/38 [==============================] - 4s 111ms/step - loss: 5.8324e-04\n",
            "Epoch 27/50\n",
            "38/38 [==============================] - 3s 69ms/step - loss: 5.0202e-04\n",
            "Epoch 28/50\n",
            "38/38 [==============================] - 3s 68ms/step - loss: 5.6053e-04\n",
            "Epoch 29/50\n",
            "38/38 [==============================] - 3s 68ms/step - loss: 5.4063e-04\n",
            "Epoch 30/50\n",
            "38/38 [==============================] - 3s 82ms/step - loss: 5.5936e-04\n",
            "Epoch 31/50\n",
            "38/38 [==============================] - 4s 112ms/step - loss: 5.2297e-04\n",
            "Epoch 32/50\n",
            "38/38 [==============================] - 3s 68ms/step - loss: 4.8226e-04\n",
            "Epoch 33/50\n",
            "38/38 [==============================] - 3s 68ms/step - loss: 5.0558e-04\n",
            "Epoch 34/50\n",
            "38/38 [==============================] - 3s 67ms/step - loss: 4.8581e-04\n",
            "Epoch 35/50\n",
            "38/38 [==============================] - 3s 86ms/step - loss: 4.7475e-04\n",
            "Epoch 36/50\n",
            "38/38 [==============================] - 4s 110ms/step - loss: 4.6793e-04\n",
            "Epoch 37/50\n",
            "38/38 [==============================] - 3s 67ms/step - loss: 4.9797e-04\n",
            "Epoch 38/50\n",
            "38/38 [==============================] - 3s 68ms/step - loss: 4.7363e-04\n",
            "Epoch 39/50\n",
            "38/38 [==============================] - 3s 69ms/step - loss: 4.1577e-04\n",
            "Epoch 40/50\n",
            "38/38 [==============================] - 3s 87ms/step - loss: 5.1603e-04\n",
            "Epoch 41/50\n",
            "38/38 [==============================] - 4s 104ms/step - loss: 4.3047e-04\n",
            "Epoch 42/50\n",
            "38/38 [==============================] - 3s 68ms/step - loss: 4.2357e-04\n",
            "Epoch 43/50\n",
            "38/38 [==============================] - 3s 68ms/step - loss: 5.1987e-04\n",
            "Epoch 44/50\n",
            "38/38 [==============================] - 3s 69ms/step - loss: 3.9685e-04\n",
            "Epoch 45/50\n",
            "38/38 [==============================] - 3s 91ms/step - loss: 4.3377e-04\n",
            "Epoch 46/50\n",
            "38/38 [==============================] - 4s 103ms/step - loss: 4.3270e-04\n",
            "Epoch 47/50\n",
            "38/38 [==============================] - 3s 68ms/step - loss: 4.2628e-04\n",
            "Epoch 48/50\n",
            "38/38 [==============================] - 3s 68ms/step - loss: 3.5863e-04\n",
            "Epoch 49/50\n",
            "38/38 [==============================] - 3s 69ms/step - loss: 4.8558e-04\n",
            "Epoch 50/50\n",
            "38/38 [==============================] - 3s 91ms/step - loss: 3.8433e-04\n"
          ]
        },
        {
          "output_type": "execute_result",
          "data": {
            "text/plain": [
              "<keras.src.callbacks.History at 0x78fcc19054e0>"
            ]
          },
          "metadata": {},
          "execution_count": 17
        }
      ]
    },
    {
      "cell_type": "code",
      "source": [
        "dataset_total = dataset.loc[:,\"High\"]\n",
        "inputs = dataset_total[len(dataset_total) - len(test_set) - n_steps :].values\n",
        "inputs = inputs.reshape(-1, 1)\n",
        "#scaling\n",
        "inputs = sc.transform(inputs)\n",
        "\n",
        "# Split into samples\n",
        "X_test, y_test = split_sequence(inputs, n_steps)\n",
        "# reshape\n",
        "X_test = X_test.reshape(X_test.shape[0], X_test.shape[1], features)\n",
        "#prediction\n",
        "predicted_stock_price = model_lstm.predict(X_test)\n",
        "#inverse transform the values\n",
        "predicted_stock_price = sc.inverse_transform(predicted_stock_price)"
      ],
      "metadata": {
        "colab": {
          "base_uri": "https://localhost:8080/"
        },
        "id": "Q0H13-d5OoRX",
        "outputId": "dbecd007-e27c-4e32-984c-3ca12b227398"
      },
      "execution_count": null,
      "outputs": [
        {
          "output_type": "stream",
          "name": "stdout",
          "text": [
            "7/7 [==============================] - 1s 48ms/step\n"
          ]
        }
      ]
    },
    {
      "cell_type": "code",
      "source": [
        "def plot_predictions(test, predicted):\n",
        "    plt.plot(test, color=\"gray\", label=\"Real\")\n",
        "    plt.plot(predicted, color=\"red\", label=\"Predicted\")\n",
        "    plt.title(\"MasterCard Stock Price Prediction\")\n",
        "    plt.xlabel(\"Time\")\n",
        "    plt.ylabel(\"MasterCard Stock Price\")\n",
        "    plt.legend()\n",
        "    plt.show()\n",
        "\n",
        "\n",
        "def return_rmse(test, predicted):\n",
        "    rmse = np.sqrt(mean_squared_error(test, predicted))\n",
        "    print(\"The root mean squared error is {:.2f}.\".format(rmse))"
      ],
      "metadata": {
        "id": "iowbutaHO70T"
      },
      "execution_count": null,
      "outputs": []
    },
    {
      "cell_type": "code",
      "source": [
        "plot_predictions(test_set,predicted_stock_price)"
      ],
      "metadata": {
        "colab": {
          "base_uri": "https://localhost:8080/",
          "height": 472
        },
        "id": "co-F4Kv2O7pa",
        "outputId": "7962922e-486d-4742-e68f-735959602ecf"
      },
      "execution_count": null,
      "outputs": [
        {
          "output_type": "display_data",
          "data": {
            "text/plain": [
              "<Figure size 640x480 with 1 Axes>"
            ],
            "image/png": "[encoded data removed]"
          },
          "metadata": {}
        }
      ]
    },
    {
      "cell_type": "code",
      "source": [
        "return_rmse(test_set,predicted_stock_price)"
      ],
      "metadata": {
        "colab": {
          "base_uri": "https://localhost:8080/"
        },
        "id": "bLc57ESqPEiS",
        "outputId": "4878ebfd-8c21-4a0d-9a49-af951b57a91c"
      },
      "execution_count": null,
      "outputs": [
        {
          "output_type": "stream",
          "name": "stdout",
          "text": [
            "The root mean squared error is 6.70.\n"
          ]
        }
      ]
    },
    {
      "cell_type": "markdown",
      "source": [
        "## GRU Model"
      ],
      "metadata": {
        "id": "qVEX_rcMPvV9"
      }
    },
    {
      "cell_type": "code",
      "source": [
        "model_gru = Sequential()\n",
        "model_gru.add(GRU(units=125, activation=\"tanh\", input_shape=(n_steps, features)))\n",
        "model_gru.add(Dense(units=1))\n",
        "# Compiling the RNN\n",
        "model_gru.compile(optimizer=\"RMSprop\", loss=\"mse\")\n",
        "\n",
        "model_gru.summary()"
      ],
      "metadata": {
        "colab": {
          "base_uri": "https://localhost:8080/"
        },
        "id": "BJWa9FTvPqQw",
        "outputId": "620adf4f-9327-47a5-a999-00fe78be51f3"
      },
      "execution_count": null,
      "outputs": [
        {
          "output_type": "stream",
          "name": "stdout",
          "text": [
            "Model: \"sequential_1\"\n",
            "_________________________________________________________________\n",
            " Layer (type)                Output Shape              Param #   \n",
            "=================================================================\n",
            " gru (GRU)                   (None, 125)               48000     \n",
            "                                                                 \n",
            " dense_1 (Dense)             (None, 1)                 126       \n",
            "                                                                 \n",
            "=================================================================\n",
            "Total params: 48126 (187.99 KB)\n",
            "Trainable params: 48126 (187.99 KB)\n",
            "Non-trainable params: 0 (0.00 Byte)\n",
            "_________________________________________________________________\n"
          ]
        }
      ]
    },
    {
      "cell_type": "code",
      "source": [
        "model_gru.fit(X_train, y_train, epochs=50, batch_size=32)"
      ],
      "metadata": {
        "colab": {
          "base_uri": "https://localhost:8080/"
        },
        "id": "i3WggQW0PqNc",
        "outputId": "2d79614d-ca97-4434-c3d6-70dc0335e0b1"
      },
      "execution_count": null,
      "outputs": [
        {
          "output_type": "stream",
          "name": "stdout",
          "text": [
            "Epoch 1/50\n",
            "38/38 [==============================] - 4s 56ms/step - loss: 0.0202\n",
            "Epoch 2/50\n",
            "38/38 [==============================] - 2s 55ms/step - loss: 0.0017\n",
            "Epoch 3/50\n",
            "38/38 [==============================] - 3s 80ms/step - loss: 0.0015\n",
            "Epoch 4/50\n",
            "38/38 [==============================] - 3s 85ms/step - loss: 0.0013\n",
            "Epoch 5/50\n",
            "38/38 [==============================] - 2s 55ms/step - loss: 9.4131e-04\n",
            "Epoch 6/50\n",
            "38/38 [==============================] - 2s 55ms/step - loss: 0.0011\n",
            "Epoch 7/50\n",
            "38/38 [==============================] - 2s 55ms/step - loss: 6.7289e-04\n",
            "Epoch 8/50\n",
            "38/38 [==============================] - 2s 55ms/step - loss: 8.7529e-04\n",
            "Epoch 9/50\n",
            "38/38 [==============================] - 3s 68ms/step - loss: 7.1874e-04\n",
            "Epoch 10/50\n",
            "38/38 [==============================] - 3s 90ms/step - loss: 7.9772e-04\n",
            "Epoch 11/50\n",
            "38/38 [==============================] - 2s 60ms/step - loss: 6.6574e-04\n",
            "Epoch 12/50\n",
            "38/38 [==============================] - 2s 56ms/step - loss: 6.3048e-04\n",
            "Epoch 13/50\n",
            "38/38 [==============================] - 2s 55ms/step - loss: 6.0291e-04\n",
            "Epoch 14/50\n",
            "38/38 [==============================] - 2s 56ms/step - loss: 5.9135e-04\n",
            "Epoch 15/50\n",
            "38/38 [==============================] - 2s 63ms/step - loss: 5.4032e-04\n",
            "Epoch 16/50\n",
            "38/38 [==============================] - 3s 90ms/step - loss: 6.1284e-04\n",
            "Epoch 17/50\n",
            "38/38 [==============================] - 3s 67ms/step - loss: 5.7853e-04\n",
            "Epoch 18/50\n",
            "38/38 [==============================] - 2s 56ms/step - loss: 5.1393e-04\n",
            "Epoch 19/50\n",
            "38/38 [==============================] - 2s 56ms/step - loss: 4.9975e-04\n",
            "Epoch 20/50\n",
            "38/38 [==============================] - 2s 55ms/step - loss: 5.3264e-04\n",
            "Epoch 21/50\n",
            "38/38 [==============================] - 2s 55ms/step - loss: 5.3841e-04\n",
            "Epoch 22/50\n",
            "38/38 [==============================] - 3s 90ms/step - loss: 4.8588e-04\n",
            "Epoch 23/50\n",
            "38/38 [==============================] - 3s 73ms/step - loss: 4.8217e-04\n",
            "Epoch 24/50\n",
            "38/38 [==============================] - 2s 55ms/step - loss: 5.4032e-04\n",
            "Epoch 25/50\n",
            "38/38 [==============================] - 2s 54ms/step - loss: 5.3439e-04\n",
            "Epoch 26/50\n",
            "38/38 [==============================] - 2s 55ms/step - loss: 4.7881e-04\n",
            "Epoch 27/50\n",
            "38/38 [==============================] - 2s 55ms/step - loss: 4.3741e-04\n",
            "Epoch 28/50\n",
            "38/38 [==============================] - 3s 81ms/step - loss: 4.4464e-04\n",
            "Epoch 29/50\n",
            "38/38 [==============================] - 3s 84ms/step - loss: 4.4948e-04\n",
            "Epoch 30/50\n",
            "38/38 [==============================] - 2s 56ms/step - loss: 4.5876e-04\n",
            "Epoch 31/50\n",
            "38/38 [==============================] - 2s 55ms/step - loss: 4.2128e-04\n",
            "Epoch 32/50\n",
            "38/38 [==============================] - 2s 55ms/step - loss: 4.1175e-04\n",
            "Epoch 33/50\n",
            "38/38 [==============================] - 2s 55ms/step - loss: 4.5520e-04\n",
            "Epoch 34/50\n",
            "38/38 [==============================] - 3s 70ms/step - loss: 3.9506e-04\n",
            "Epoch 35/50\n",
            "38/38 [==============================] - 3s 89ms/step - loss: 4.2692e-04\n",
            "Epoch 36/50\n",
            "38/38 [==============================] - 2s 60ms/step - loss: 4.0805e-04\n",
            "Epoch 37/50\n",
            "38/38 [==============================] - 2s 56ms/step - loss: 4.1794e-04\n",
            "Epoch 38/50\n",
            "38/38 [==============================] - 2s 56ms/step - loss: 4.2370e-04\n",
            "Epoch 39/50\n",
            "38/38 [==============================] - 2s 56ms/step - loss: 3.6435e-04\n",
            "Epoch 40/50\n",
            "38/38 [==============================] - 2s 60ms/step - loss: 4.4730e-04\n",
            "Epoch 41/50\n",
            "38/38 [==============================] - 4s 93ms/step - loss: 3.8199e-04\n",
            "Epoch 42/50\n",
            "38/38 [==============================] - 3s 66ms/step - loss: 3.7251e-04\n",
            "Epoch 43/50\n",
            "38/38 [==============================] - 2s 56ms/step - loss: 4.7467e-04\n",
            "Epoch 44/50\n",
            "38/38 [==============================] - 2s 55ms/step - loss: 3.3829e-04\n",
            "Epoch 45/50\n",
            "38/38 [==============================] - 2s 56ms/step - loss: 3.9480e-04\n",
            "Epoch 46/50\n",
            "38/38 [==============================] - 2s 55ms/step - loss: 3.6519e-04\n",
            "Epoch 47/50\n",
            "38/38 [==============================] - 3s 87ms/step - loss: 3.9501e-04\n",
            "Epoch 48/50\n",
            "38/38 [==============================] - 3s 76ms/step - loss: 3.1986e-04\n",
            "Epoch 49/50\n",
            "38/38 [==============================] - 2s 55ms/step - loss: 4.2218e-04\n",
            "Epoch 50/50\n",
            "38/38 [==============================] - 2s 55ms/step - loss: 3.5661e-04\n"
          ]
        },
        {
          "output_type": "execute_result",
          "data": {
            "text/plain": [
              "<keras.src.callbacks.History at 0x78fcb41d6e90>"
            ]
          },
          "metadata": {},
          "execution_count": 23
        }
      ]
    },
    {
      "cell_type": "code",
      "source": [
        "GRU_predicted_stock_price = model_gru.predict(X_test)\n",
        "GRU_predicted_stock_price = sc.inverse_transform(GRU_predicted_stock_price)\n",
        "plot_predictions(test_set, GRU_predicted_stock_price)"
      ],
      "metadata": {
        "colab": {
          "base_uri": "https://localhost:8080/",
          "height": 490
        },
        "id": "JLQ8x_3gPqKw",
        "outputId": "f5dbd410-0efa-4980-d4a5-79b102ef3a8b"
      },
      "execution_count": null,
      "outputs": [
        {
          "output_type": "stream",
          "name": "stdout",
          "text": [
            "7/7 [==============================] - 0s 15ms/step\n"
          ]
        },
        {
          "output_type": "display_data",
          "data": {
            "text/plain": [
              "<Figure size 640x480 with 1 Axes>"
            ],
            "image/png": "[encoded data removed]"
          },
          "metadata": {}
        }
      ]
    },
    {
      "cell_type": "code",
      "source": [
        "return_rmse(test_set,GRU_predicted_stock_price)"
      ],
      "metadata": {
        "colab": {
          "base_uri": "https://localhost:8080/"
        },
        "id": "jOC-V4HhPqIh",
        "outputId": "58ec4393-704f-4e5e-f146-318f4586a588"
      },
      "execution_count": null,
      "outputs": [
        {
          "output_type": "stream",
          "name": "stdout",
          "text": [
            "The root mean squared error is 5.94.\n"
          ]
        }
      ]
    },
    {
      "cell_type": "code",
      "source": [],
      "metadata": {
        "id": "ax2mtZBIR0R0"
      },
      "execution_count": null,
      "outputs": []
    }
  ]
}