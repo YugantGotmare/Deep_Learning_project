{
  "nbformat": 4,
  "nbformat_minor": 0,
  "metadata": {
    "colab": {
      "provenance": [],
      "collapsed_sections": [],
      "authorship_tag": "ABX9TyOfa3kJR8rIMiPBkQu9ur4Z",
      "include_colab_link": true
    },
    "kernelspec": {
      "name": "python3",
      "display_name": "Python 3"
    },
    "language_info": {
      "name": "python"
    }
  },
  "cells": [
    {
      "cell_type": "markdown",
      "metadata": {
        "id": "view-in-github",
        "colab_type": "text"
      },
      "source": [
        "<a href=\"https://colab.research.google.com/github/YugantGotmare/Deep_learning_project/blob/main/Diabetes_Classification_using_Deep_Learning.ipynb\" target=\"_parent\"><img src=\"https://colab.research.google.com/assets/colab-badge.svg\" alt=\"Open In Colab\"/></a>"
      ]
    },
    {
      "cell_type": "code",
      "execution_count": 1,
      "metadata": {
        "id": "UdnxmQcmb49A"
      },
      "outputs": [],
      "source": [
        "import pandas as pd\n",
        "import numpy as np"
      ]
    },
    {
      "cell_type": "code",
      "source": [
        "df = pd.read_csv('/content/diabetes.csv')"
      ],
      "metadata": {
        "id": "LB2WPs5UcoD4"
      },
      "execution_count": 2,
      "outputs": []
    },
    {
      "cell_type": "code",
      "source": [
        "df.head()"
      ],
      "metadata": {
        "colab": {
          "base_uri": "https://localhost:8080/",
          "height": 206
        },
        "id": "W7Yf9mkjcuON",
        "outputId": "31b4f6ce-3d33-4731-e2e5-88abc5766869"
      },
      "execution_count": 3,
      "outputs": [
        {
          "output_type": "execute_result",
          "data": {
            "text/plain": [
              "   Pregnancies  Glucose  BloodPressure  SkinThickness  Insulin   BMI  \\\n",
              "0            6      148             72             35        0  33.6   \n",
              "1            1       85             66             29        0  26.6   \n",
              "2            8      183             64              0        0  23.3   \n",
              "3            1       89             66             23       94  28.1   \n",
              "4            0      137             40             35      168  43.1   \n",
              "\n",
              "   DiabetesPedigreeFunction  Age  Outcome  \n",
              "0                     0.627   50        1  \n",
              "1                     0.351   31        0  \n",
              "2                     0.672   32        1  \n",
              "3                     0.167   21        0  \n",
              "4                     2.288   33        1  "
            ],
            "text/html": [
              "\n",
              "  <div id=\"df-13e988e1-ca21-403f-8c6c-bc4d4310c384\">\n",
              "    <div class=\"colab-df-container\">\n",
              "      <div>\n",
              "<style scoped>\n",
              "    .dataframe tbody tr th:only-of-type {\n",
              "        vertical-align: middle;\n",
              "    }\n",
              "\n",
              "    .dataframe tbody tr th {\n",
              "        vertical-align: top;\n",
              "    }\n",
              "\n",
              "    .dataframe thead th {\n",
              "        text-align: right;\n",
              "    }\n",
              "</style>\n",
              "<table border=\"1\" class=\"dataframe\">\n",
              "  <thead>\n",
              "    <tr style=\"text-align: right;\">\n",
              "      <th></th>\n",
              "      <th>Pregnancies</th>\n",
              "      <th>Glucose</th>\n",
              "      <th>BloodPressure</th>\n",
              "      <th>SkinThickness</th>\n",
              "      <th>Insulin</th>\n",
              "      <th>BMI</th>\n",
              "      <th>DiabetesPedigreeFunction</th>\n",
              "      <th>Age</th>\n",
              "      <th>Outcome</th>\n",
              "    </tr>\n",
              "  </thead>\n",
              "  <tbody>\n",
              "    <tr>\n",
              "      <th>0</th>\n",
              "      <td>6</td>\n",
              "      <td>148</td>\n",
              "      <td>72</td>\n",
              "      <td>35</td>\n",
              "      <td>0</td>\n",
              "      <td>33.6</td>\n",
              "      <td>0.627</td>\n",
              "      <td>50</td>\n",
              "      <td>1</td>\n",
              "    </tr>\n",
              "    <tr>\n",
              "      <th>1</th>\n",
              "      <td>1</td>\n",
              "      <td>85</td>\n",
              "      <td>66</td>\n",
              "      <td>29</td>\n",
              "      <td>0</td>\n",
              "      <td>26.6</td>\n",
              "      <td>0.351</td>\n",
              "      <td>31</td>\n",
              "      <td>0</td>\n",
              "    </tr>\n",
              "    <tr>\n",
              "      <th>2</th>\n",
              "      <td>8</td>\n",
              "      <td>183</td>\n",
              "      <td>64</td>\n",
              "      <td>0</td>\n",
              "      <td>0</td>\n",
              "      <td>23.3</td>\n",
              "      <td>0.672</td>\n",
              "      <td>32</td>\n",
              "      <td>1</td>\n",
              "    </tr>\n",
              "    <tr>\n",
              "      <th>3</th>\n",
              "      <td>1</td>\n",
              "      <td>89</td>\n",
              "      <td>66</td>\n",
              "      <td>23</td>\n",
              "      <td>94</td>\n",
              "      <td>28.1</td>\n",
              "      <td>0.167</td>\n",
              "      <td>21</td>\n",
              "      <td>0</td>\n",
              "    </tr>\n",
              "    <tr>\n",
              "      <th>4</th>\n",
              "      <td>0</td>\n",
              "      <td>137</td>\n",
              "      <td>40</td>\n",
              "      <td>35</td>\n",
              "      <td>168</td>\n",
              "      <td>43.1</td>\n",
              "      <td>2.288</td>\n",
              "      <td>33</td>\n",
              "      <td>1</td>\n",
              "    </tr>\n",
              "  </tbody>\n",
              "</table>\n",
              "</div>\n",
              "      <button class=\"colab-df-convert\" onclick=\"convertToInteractive('df-13e988e1-ca21-403f-8c6c-bc4d4310c384')\"\n",
              "              title=\"Convert this dataframe to an interactive table.\"\n",
              "              style=\"display:none;\">\n",
              "        \n",
              "  <svg xmlns=\"http://www.w3.org/2000/svg\" height=\"24px\"viewBox=\"0 0 24 24\"\n",
              "       width=\"24px\">\n",
              "    <path d=\"M0 0h24v24H0V0z\" fill=\"none\"/>\n",
              "    <path d=\"M18.56 5.44l.94 2.06.94-2.06 2.06-.94-2.06-.94-.94-2.06-.94 2.06-2.06.94zm-11 1L8.5 8.5l.94-2.06 2.06-.94-2.06-.94L8.5 2.5l-.94 2.06-2.06.94zm10 10l.94 2.06.94-2.06 2.06-.94-2.06-.94-.94-2.06-.94 2.06-2.06.94z\"/><path d=\"M17.41 7.96l-1.37-1.37c-.4-.4-.92-.59-1.43-.59-.52 0-1.04.2-1.43.59L10.3 9.45l-7.72 7.72c-.78.78-.78 2.05 0 2.83L4 21.41c.39.39.9.59 1.41.59.51 0 1.02-.2 1.41-.59l7.78-7.78 2.81-2.81c.8-.78.8-2.07 0-2.86zM5.41 20L4 18.59l7.72-7.72 1.47 1.35L5.41 20z\"/>\n",
              "  </svg>\n",
              "      </button>\n",
              "      \n",
              "  <style>\n",
              "    .colab-df-container {\n",
              "      display:flex;\n",
              "      flex-wrap:wrap;\n",
              "      gap: 12px;\n",
              "    }\n",
              "\n",
              "    .colab-df-convert {\n",
              "      background-color: #E8F0FE;\n",
              "      border: none;\n",
              "      border-radius: 50%;\n",
              "      cursor: pointer;\n",
              "      display: none;\n",
              "      fill: #1967D2;\n",
              "      height: 32px;\n",
              "      padding: 0 0 0 0;\n",
              "      width: 32px;\n",
              "    }\n",
              "\n",
              "    .colab-df-convert:hover {\n",
              "      background-color: #E2EBFA;\n",
              "      box-shadow: 0px 1px 2px rgba(60, 64, 67, 0.3), 0px 1px 3px 1px rgba(60, 64, 67, 0.15);\n",
              "      fill: #174EA6;\n",
              "    }\n",
              "\n",
              "    [theme=dark] .colab-df-convert {\n",
              "      background-color: #3B4455;\n",
              "      fill: #D2E3FC;\n",
              "    }\n",
              "\n",
              "    [theme=dark] .colab-df-convert:hover {\n",
              "      background-color: #434B5C;\n",
              "      box-shadow: 0px 1px 3px 1px rgba(0, 0, 0, 0.15);\n",
              "      filter: drop-shadow(0px 1px 2px rgba(0, 0, 0, 0.3));\n",
              "      fill: #FFFFFF;\n",
              "    }\n",
              "  </style>\n",
              "\n",
              "      <script>\n",
              "        const buttonEl =\n",
              "          document.querySelector('#df-13e988e1-ca21-403f-8c6c-bc4d4310c384 button.colab-df-convert');\n",
              "        buttonEl.style.display =\n",
              "          google.colab.kernel.accessAllowed ? 'block' : 'none';\n",
              "\n",
              "        async function convertToInteractive(key) {\n",
              "          const element = document.querySelector('#df-13e988e1-ca21-403f-8c6c-bc4d4310c384');\n",
              "          const dataTable =\n",
              "            await google.colab.kernel.invokeFunction('convertToInteractive',\n",
              "                                                     [key], {});\n",
              "          if (!dataTable) return;\n",
              "\n",
              "          const docLinkHtml = 'Like what you see? Visit the ' +\n",
              "            '<a target=\"_blank\" href=https://colab.research.google.com/notebooks/data_table.ipynb>data table notebook</a>'\n",
              "            + ' to learn more about interactive tables.';\n",
              "          element.innerHTML = '';\n",
              "          dataTable['output_type'] = 'display_data';\n",
              "          await google.colab.output.renderOutput(dataTable, element);\n",
              "          const docLink = document.createElement('div');\n",
              "          docLink.innerHTML = docLinkHtml;\n",
              "          element.appendChild(docLink);\n",
              "        }\n",
              "      </script>\n",
              "    </div>\n",
              "  </div>\n",
              "  "
            ]
          },
          "metadata": {},
          "execution_count": 3
        }
      ]
    },
    {
      "cell_type": "code",
      "source": [
        "df.shape"
      ],
      "metadata": {
        "colab": {
          "base_uri": "https://localhost:8080/"
        },
        "id": "zNv-Tcq0cxSO",
        "outputId": "50a4efad-0456-4984-e634-75a90e58971d"
      },
      "execution_count": 4,
      "outputs": [
        {
          "output_type": "execute_result",
          "data": {
            "text/plain": [
              "(768, 9)"
            ]
          },
          "metadata": {},
          "execution_count": 4
        }
      ]
    },
    {
      "cell_type": "code",
      "source": [
        "df.info()"
      ],
      "metadata": {
        "colab": {
          "base_uri": "https://localhost:8080/"
        },
        "id": "KKkEoLu5c2bc",
        "outputId": "9c1551a8-d99e-4aab-c390-74749c34d7ce"
      },
      "execution_count": 5,
      "outputs": [
        {
          "output_type": "stream",
          "name": "stdout",
          "text": [
            "<class 'pandas.core.frame.DataFrame'>\n",
            "RangeIndex: 768 entries, 0 to 767\n",
            "Data columns (total 9 columns):\n",
            " #   Column                    Non-Null Count  Dtype  \n",
            "---  ------                    --------------  -----  \n",
            " 0   Pregnancies               768 non-null    int64  \n",
            " 1   Glucose                   768 non-null    int64  \n",
            " 2   BloodPressure             768 non-null    int64  \n",
            " 3   SkinThickness             768 non-null    int64  \n",
            " 4   Insulin                   768 non-null    int64  \n",
            " 5   BMI                       768 non-null    float64\n",
            " 6   DiabetesPedigreeFunction  768 non-null    float64\n",
            " 7   Age                       768 non-null    int64  \n",
            " 8   Outcome                   768 non-null    int64  \n",
            "dtypes: float64(2), int64(7)\n",
            "memory usage: 54.1 KB\n"
          ]
        }
      ]
    },
    {
      "cell_type": "code",
      "source": [
        "df.isnull().sum()"
      ],
      "metadata": {
        "colab": {
          "base_uri": "https://localhost:8080/"
        },
        "id": "BHPxnCpjc7EG",
        "outputId": "a2ed42dc-9fc4-4cd0-aa32-2e81c306c315"
      },
      "execution_count": 6,
      "outputs": [
        {
          "output_type": "execute_result",
          "data": {
            "text/plain": [
              "Pregnancies                 0\n",
              "Glucose                     0\n",
              "BloodPressure               0\n",
              "SkinThickness               0\n",
              "Insulin                     0\n",
              "BMI                         0\n",
              "DiabetesPedigreeFunction    0\n",
              "Age                         0\n",
              "Outcome                     0\n",
              "dtype: int64"
            ]
          },
          "metadata": {},
          "execution_count": 6
        }
      ]
    },
    {
      "cell_type": "code",
      "source": [
        "df.describe()"
      ],
      "metadata": {
        "colab": {
          "base_uri": "https://localhost:8080/",
          "height": 300
        },
        "id": "HZpwRe4kdBOG",
        "outputId": "03c4b574-dcea-4fed-c3bf-c3333b572ddd"
      },
      "execution_count": 7,
      "outputs": [
        {
          "output_type": "execute_result",
          "data": {
            "text/plain": [
              "       Pregnancies     Glucose  BloodPressure  SkinThickness     Insulin  \\\n",
              "count   768.000000  768.000000     768.000000     768.000000  768.000000   \n",
              "mean      3.845052  120.894531      69.105469      20.536458   79.799479   \n",
              "std       3.369578   31.972618      19.355807      15.952218  115.244002   \n",
              "min       0.000000    0.000000       0.000000       0.000000    0.000000   \n",
              "25%       1.000000   99.000000      62.000000       0.000000    0.000000   \n",
              "50%       3.000000  117.000000      72.000000      23.000000   30.500000   \n",
              "75%       6.000000  140.250000      80.000000      32.000000  127.250000   \n",
              "max      17.000000  199.000000     122.000000      99.000000  846.000000   \n",
              "\n",
              "              BMI  DiabetesPedigreeFunction         Age     Outcome  \n",
              "count  768.000000                768.000000  768.000000  768.000000  \n",
              "mean    31.992578                  0.471876   33.240885    0.348958  \n",
              "std      7.884160                  0.331329   11.760232    0.476951  \n",
              "min      0.000000                  0.078000   21.000000    0.000000  \n",
              "25%     27.300000                  0.243750   24.000000    0.000000  \n",
              "50%     32.000000                  0.372500   29.000000    0.000000  \n",
              "75%     36.600000                  0.626250   41.000000    1.000000  \n",
              "max     67.100000                  2.420000   81.000000    1.000000  "
            ],
            "text/html": [
              "\n",
              "  <div id=\"df-8914e7e7-761b-4a66-80b2-9e1b54f5703d\">\n",
              "    <div class=\"colab-df-container\">\n",
              "      <div>\n",
              "<style scoped>\n",
              "    .dataframe tbody tr th:only-of-type {\n",
              "        vertical-align: middle;\n",
              "    }\n",
              "\n",
              "    .dataframe tbody tr th {\n",
              "        vertical-align: top;\n",
              "    }\n",
              "\n",
              "    .dataframe thead th {\n",
              "        text-align: right;\n",
              "    }\n",
              "</style>\n",
              "<table border=\"1\" class=\"dataframe\">\n",
              "  <thead>\n",
              "    <tr style=\"text-align: right;\">\n",
              "      <th></th>\n",
              "      <th>Pregnancies</th>\n",
              "      <th>Glucose</th>\n",
              "      <th>BloodPressure</th>\n",
              "      <th>SkinThickness</th>\n",
              "      <th>Insulin</th>\n",
              "      <th>BMI</th>\n",
              "      <th>DiabetesPedigreeFunction</th>\n",
              "      <th>Age</th>\n",
              "      <th>Outcome</th>\n",
              "    </tr>\n",
              "  </thead>\n",
              "  <tbody>\n",
              "    <tr>\n",
              "      <th>count</th>\n",
              "      <td>768.000000</td>\n",
              "      <td>768.000000</td>\n",
              "      <td>768.000000</td>\n",
              "      <td>768.000000</td>\n",
              "      <td>768.000000</td>\n",
              "      <td>768.000000</td>\n",
              "      <td>768.000000</td>\n",
              "      <td>768.000000</td>\n",
              "      <td>768.000000</td>\n",
              "    </tr>\n",
              "    <tr>\n",
              "      <th>mean</th>\n",
              "      <td>3.845052</td>\n",
              "      <td>120.894531</td>\n",
              "      <td>69.105469</td>\n",
              "      <td>20.536458</td>\n",
              "      <td>79.799479</td>\n",
              "      <td>31.992578</td>\n",
              "      <td>0.471876</td>\n",
              "      <td>33.240885</td>\n",
              "      <td>0.348958</td>\n",
              "    </tr>\n",
              "    <tr>\n",
              "      <th>std</th>\n",
              "      <td>3.369578</td>\n",
              "      <td>31.972618</td>\n",
              "      <td>19.355807</td>\n",
              "      <td>15.952218</td>\n",
              "      <td>115.244002</td>\n",
              "      <td>7.884160</td>\n",
              "      <td>0.331329</td>\n",
              "      <td>11.760232</td>\n",
              "      <td>0.476951</td>\n",
              "    </tr>\n",
              "    <tr>\n",
              "      <th>min</th>\n",
              "      <td>0.000000</td>\n",
              "      <td>0.000000</td>\n",
              "      <td>0.000000</td>\n",
              "      <td>0.000000</td>\n",
              "      <td>0.000000</td>\n",
              "      <td>0.000000</td>\n",
              "      <td>0.078000</td>\n",
              "      <td>21.000000</td>\n",
              "      <td>0.000000</td>\n",
              "    </tr>\n",
              "    <tr>\n",
              "      <th>25%</th>\n",
              "      <td>1.000000</td>\n",
              "      <td>99.000000</td>\n",
              "      <td>62.000000</td>\n",
              "      <td>0.000000</td>\n",
              "      <td>0.000000</td>\n",
              "      <td>27.300000</td>\n",
              "      <td>0.243750</td>\n",
              "      <td>24.000000</td>\n",
              "      <td>0.000000</td>\n",
              "    </tr>\n",
              "    <tr>\n",
              "      <th>50%</th>\n",
              "      <td>3.000000</td>\n",
              "      <td>117.000000</td>\n",
              "      <td>72.000000</td>\n",
              "      <td>23.000000</td>\n",
              "      <td>30.500000</td>\n",
              "      <td>32.000000</td>\n",
              "      <td>0.372500</td>\n",
              "      <td>29.000000</td>\n",
              "      <td>0.000000</td>\n",
              "    </tr>\n",
              "    <tr>\n",
              "      <th>75%</th>\n",
              "      <td>6.000000</td>\n",
              "      <td>140.250000</td>\n",
              "      <td>80.000000</td>\n",
              "      <td>32.000000</td>\n",
              "      <td>127.250000</td>\n",
              "      <td>36.600000</td>\n",
              "      <td>0.626250</td>\n",
              "      <td>41.000000</td>\n",
              "      <td>1.000000</td>\n",
              "    </tr>\n",
              "    <tr>\n",
              "      <th>max</th>\n",
              "      <td>17.000000</td>\n",
              "      <td>199.000000</td>\n",
              "      <td>122.000000</td>\n",
              "      <td>99.000000</td>\n",
              "      <td>846.000000</td>\n",
              "      <td>67.100000</td>\n",
              "      <td>2.420000</td>\n",
              "      <td>81.000000</td>\n",
              "      <td>1.000000</td>\n",
              "    </tr>\n",
              "  </tbody>\n",
              "</table>\n",
              "</div>\n",
              "      <button class=\"colab-df-convert\" onclick=\"convertToInteractive('df-8914e7e7-761b-4a66-80b2-9e1b54f5703d')\"\n",
              "              title=\"Convert this dataframe to an interactive table.\"\n",
              "              style=\"display:none;\">\n",
              "        \n",
              "  <svg xmlns=\"http://www.w3.org/2000/svg\" height=\"24px\"viewBox=\"0 0 24 24\"\n",
              "       width=\"24px\">\n",
              "    <path d=\"M0 0h24v24H0V0z\" fill=\"none\"/>\n",
              "    <path d=\"M18.56 5.44l.94 2.06.94-2.06 2.06-.94-2.06-.94-.94-2.06-.94 2.06-2.06.94zm-11 1L8.5 8.5l.94-2.06 2.06-.94-2.06-.94L8.5 2.5l-.94 2.06-2.06.94zm10 10l.94 2.06.94-2.06 2.06-.94-2.06-.94-.94-2.06-.94 2.06-2.06.94z\"/><path d=\"M17.41 7.96l-1.37-1.37c-.4-.4-.92-.59-1.43-.59-.52 0-1.04.2-1.43.59L10.3 9.45l-7.72 7.72c-.78.78-.78 2.05 0 2.83L4 21.41c.39.39.9.59 1.41.59.51 0 1.02-.2 1.41-.59l7.78-7.78 2.81-2.81c.8-.78.8-2.07 0-2.86zM5.41 20L4 18.59l7.72-7.72 1.47 1.35L5.41 20z\"/>\n",
              "  </svg>\n",
              "      </button>\n",
              "      \n",
              "  <style>\n",
              "    .colab-df-container {\n",
              "      display:flex;\n",
              "      flex-wrap:wrap;\n",
              "      gap: 12px;\n",
              "    }\n",
              "\n",
              "    .colab-df-convert {\n",
              "      background-color: #E8F0FE;\n",
              "      border: none;\n",
              "      border-radius: 50%;\n",
              "      cursor: pointer;\n",
              "      display: none;\n",
              "      fill: #1967D2;\n",
              "      height: 32px;\n",
              "      padding: 0 0 0 0;\n",
              "      width: 32px;\n",
              "    }\n",
              "\n",
              "    .colab-df-convert:hover {\n",
              "      background-color: #E2EBFA;\n",
              "      box-shadow: 0px 1px 2px rgba(60, 64, 67, 0.3), 0px 1px 3px 1px rgba(60, 64, 67, 0.15);\n",
              "      fill: #174EA6;\n",
              "    }\n",
              "\n",
              "    [theme=dark] .colab-df-convert {\n",
              "      background-color: #3B4455;\n",
              "      fill: #D2E3FC;\n",
              "    }\n",
              "\n",
              "    [theme=dark] .colab-df-convert:hover {\n",
              "      background-color: #434B5C;\n",
              "      box-shadow: 0px 1px 3px 1px rgba(0, 0, 0, 0.15);\n",
              "      filter: drop-shadow(0px 1px 2px rgba(0, 0, 0, 0.3));\n",
              "      fill: #FFFFFF;\n",
              "    }\n",
              "  </style>\n",
              "\n",
              "      <script>\n",
              "        const buttonEl =\n",
              "          document.querySelector('#df-8914e7e7-761b-4a66-80b2-9e1b54f5703d button.colab-df-convert');\n",
              "        buttonEl.style.display =\n",
              "          google.colab.kernel.accessAllowed ? 'block' : 'none';\n",
              "\n",
              "        async function convertToInteractive(key) {\n",
              "          const element = document.querySelector('#df-8914e7e7-761b-4a66-80b2-9e1b54f5703d');\n",
              "          const dataTable =\n",
              "            await google.colab.kernel.invokeFunction('convertToInteractive',\n",
              "                                                     [key], {});\n",
              "          if (!dataTable) return;\n",
              "\n",
              "          const docLinkHtml = 'Like what you see? Visit the ' +\n",
              "            '<a target=\"_blank\" href=https://colab.research.google.com/notebooks/data_table.ipynb>data table notebook</a>'\n",
              "            + ' to learn more about interactive tables.';\n",
              "          element.innerHTML = '';\n",
              "          dataTable['output_type'] = 'display_data';\n",
              "          await google.colab.output.renderOutput(dataTable, element);\n",
              "          const docLink = document.createElement('div');\n",
              "          docLink.innerHTML = docLinkHtml;\n",
              "          element.appendChild(docLink);\n",
              "        }\n",
              "      </script>\n",
              "    </div>\n",
              "  </div>\n",
              "  "
            ]
          },
          "metadata": {},
          "execution_count": 7
        }
      ]
    },
    {
      "cell_type": "code",
      "source": [
        "from matplotlib import pyplot as plt\n",
        "import seaborn as sns"
      ],
      "metadata": {
        "id": "NDVQbthkdMH8"
      },
      "execution_count": 8,
      "outputs": []
    },
    {
      "cell_type": "code",
      "source": [
        "df.sample(3)"
      ],
      "metadata": {
        "colab": {
          "base_uri": "https://localhost:8080/",
          "height": 143
        },
        "id": "Wy6FURIfdpbc",
        "outputId": "4b707ce2-bbba-4ddb-fb6f-363f20fd660d"
      },
      "execution_count": 9,
      "outputs": [
        {
          "output_type": "execute_result",
          "data": {
            "text/plain": [
              "     Pregnancies  Glucose  BloodPressure  SkinThickness  Insulin   BMI  \\\n",
              "267            2      128             64             42        0  40.0   \n",
              "161            7      102             74             40      105  37.2   \n",
              "190            3      111             62              0        0  22.6   \n",
              "\n",
              "     DiabetesPedigreeFunction  Age  Outcome  \n",
              "267                     1.101   24        0  \n",
              "161                     0.204   45        0  \n",
              "190                     0.142   21        0  "
            ],
            "text/html": [
              "\n",
              "  <div id=\"df-0e3e7cad-3fa3-4e6c-8b9b-dbd73fca3a84\">\n",
              "    <div class=\"colab-df-container\">\n",
              "      <div>\n",
              "<style scoped>\n",
              "    .dataframe tbody tr th:only-of-type {\n",
              "        vertical-align: middle;\n",
              "    }\n",
              "\n",
              "    .dataframe tbody tr th {\n",
              "        vertical-align: top;\n",
              "    }\n",
              "\n",
              "    .dataframe thead th {\n",
              "        text-align: right;\n",
              "    }\n",
              "</style>\n",
              "<table border=\"1\" class=\"dataframe\">\n",
              "  <thead>\n",
              "    <tr style=\"text-align: right;\">\n",
              "      <th></th>\n",
              "      <th>Pregnancies</th>\n",
              "      <th>Glucose</th>\n",
              "      <th>BloodPressure</th>\n",
              "      <th>SkinThickness</th>\n",
              "      <th>Insulin</th>\n",
              "      <th>BMI</th>\n",
              "      <th>DiabetesPedigreeFunction</th>\n",
              "      <th>Age</th>\n",
              "      <th>Outcome</th>\n",
              "    </tr>\n",
              "  </thead>\n",
              "  <tbody>\n",
              "    <tr>\n",
              "      <th>267</th>\n",
              "      <td>2</td>\n",
              "      <td>128</td>\n",
              "      <td>64</td>\n",
              "      <td>42</td>\n",
              "      <td>0</td>\n",
              "      <td>40.0</td>\n",
              "      <td>1.101</td>\n",
              "      <td>24</td>\n",
              "      <td>0</td>\n",
              "    </tr>\n",
              "    <tr>\n",
              "      <th>161</th>\n",
              "      <td>7</td>\n",
              "      <td>102</td>\n",
              "      <td>74</td>\n",
              "      <td>40</td>\n",
              "      <td>105</td>\n",
              "      <td>37.2</td>\n",
              "      <td>0.204</td>\n",
              "      <td>45</td>\n",
              "      <td>0</td>\n",
              "    </tr>\n",
              "    <tr>\n",
              "      <th>190</th>\n",
              "      <td>3</td>\n",
              "      <td>111</td>\n",
              "      <td>62</td>\n",
              "      <td>0</td>\n",
              "      <td>0</td>\n",
              "      <td>22.6</td>\n",
              "      <td>0.142</td>\n",
              "      <td>21</td>\n",
              "      <td>0</td>\n",
              "    </tr>\n",
              "  </tbody>\n",
              "</table>\n",
              "</div>\n",
              "      <button class=\"colab-df-convert\" onclick=\"convertToInteractive('df-0e3e7cad-3fa3-4e6c-8b9b-dbd73fca3a84')\"\n",
              "              title=\"Convert this dataframe to an interactive table.\"\n",
              "              style=\"display:none;\">\n",
              "        \n",
              "  <svg xmlns=\"http://www.w3.org/2000/svg\" height=\"24px\"viewBox=\"0 0 24 24\"\n",
              "       width=\"24px\">\n",
              "    <path d=\"M0 0h24v24H0V0z\" fill=\"none\"/>\n",
              "    <path d=\"M18.56 5.44l.94 2.06.94-2.06 2.06-.94-2.06-.94-.94-2.06-.94 2.06-2.06.94zm-11 1L8.5 8.5l.94-2.06 2.06-.94-2.06-.94L8.5 2.5l-.94 2.06-2.06.94zm10 10l.94 2.06.94-2.06 2.06-.94-2.06-.94-.94-2.06-.94 2.06-2.06.94z\"/><path d=\"M17.41 7.96l-1.37-1.37c-.4-.4-.92-.59-1.43-.59-.52 0-1.04.2-1.43.59L10.3 9.45l-7.72 7.72c-.78.78-.78 2.05 0 2.83L4 21.41c.39.39.9.59 1.41.59.51 0 1.02-.2 1.41-.59l7.78-7.78 2.81-2.81c.8-.78.8-2.07 0-2.86zM5.41 20L4 18.59l7.72-7.72 1.47 1.35L5.41 20z\"/>\n",
              "  </svg>\n",
              "      </button>\n",
              "      \n",
              "  <style>\n",
              "    .colab-df-container {\n",
              "      display:flex;\n",
              "      flex-wrap:wrap;\n",
              "      gap: 12px;\n",
              "    }\n",
              "\n",
              "    .colab-df-convert {\n",
              "      background-color: #E8F0FE;\n",
              "      border: none;\n",
              "      border-radius: 50%;\n",
              "      cursor: pointer;\n",
              "      display: none;\n",
              "      fill: #1967D2;\n",
              "      height: 32px;\n",
              "      padding: 0 0 0 0;\n",
              "      width: 32px;\n",
              "    }\n",
              "\n",
              "    .colab-df-convert:hover {\n",
              "      background-color: #E2EBFA;\n",
              "      box-shadow: 0px 1px 2px rgba(60, 64, 67, 0.3), 0px 1px 3px 1px rgba(60, 64, 67, 0.15);\n",
              "      fill: #174EA6;\n",
              "    }\n",
              "\n",
              "    [theme=dark] .colab-df-convert {\n",
              "      background-color: #3B4455;\n",
              "      fill: #D2E3FC;\n",
              "    }\n",
              "\n",
              "    [theme=dark] .colab-df-convert:hover {\n",
              "      background-color: #434B5C;\n",
              "      box-shadow: 0px 1px 3px 1px rgba(0, 0, 0, 0.15);\n",
              "      filter: drop-shadow(0px 1px 2px rgba(0, 0, 0, 0.3));\n",
              "      fill: #FFFFFF;\n",
              "    }\n",
              "  </style>\n",
              "\n",
              "      <script>\n",
              "        const buttonEl =\n",
              "          document.querySelector('#df-0e3e7cad-3fa3-4e6c-8b9b-dbd73fca3a84 button.colab-df-convert');\n",
              "        buttonEl.style.display =\n",
              "          google.colab.kernel.accessAllowed ? 'block' : 'none';\n",
              "\n",
              "        async function convertToInteractive(key) {\n",
              "          const element = document.querySelector('#df-0e3e7cad-3fa3-4e6c-8b9b-dbd73fca3a84');\n",
              "          const dataTable =\n",
              "            await google.colab.kernel.invokeFunction('convertToInteractive',\n",
              "                                                     [key], {});\n",
              "          if (!dataTable) return;\n",
              "\n",
              "          const docLinkHtml = 'Like what you see? Visit the ' +\n",
              "            '<a target=\"_blank\" href=https://colab.research.google.com/notebooks/data_table.ipynb>data table notebook</a>'\n",
              "            + ' to learn more about interactive tables.';\n",
              "          element.innerHTML = '';\n",
              "          dataTable['output_type'] = 'display_data';\n",
              "          await google.colab.output.renderOutput(dataTable, element);\n",
              "          const docLink = document.createElement('div');\n",
              "          docLink.innerHTML = docLinkHtml;\n",
              "          element.appendChild(docLink);\n",
              "        }\n",
              "      </script>\n",
              "    </div>\n",
              "  </div>\n",
              "  "
            ]
          },
          "metadata": {},
          "execution_count": 9
        }
      ]
    },
    {
      "cell_type": "code",
      "source": [
        "sns.barplot(x=df['Pregnancies'],y=df['Glucose'])\n",
        "plt.xticks(rotation='vertical')\n",
        "plt.show()"
      ],
      "metadata": {
        "colab": {
          "base_uri": "https://localhost:8080/",
          "height": 282
        },
        "id": "QRerw9eydWrc",
        "outputId": "bcf48c70-c025-4a7d-fea6-6cfaa203eee0"
      },
      "execution_count": 10,
      "outputs": [
        {
          "output_type": "display_data",
          "data": {
            "text/plain": [
              "<Figure size 432x288 with 1 Axes>"
            ],
            "image/png": "[encoded data removed]"
          },
          "metadata": {
            "needs_background": "light"
          }
        }
      ]
    },
    {
      "cell_type": "code",
      "source": [
        "sns.barplot(x=df['Pregnancies'],y=df['BloodPressure'])\n",
        "plt.xticks(rotation='vertical')\n",
        "plt.show()"
      ],
      "metadata": {
        "colab": {
          "base_uri": "https://localhost:8080/",
          "height": 282
        },
        "id": "RRFTtdF7dyq4",
        "outputId": "cae36ee4-f49f-4d0a-cdf6-8c409fa68183"
      },
      "execution_count": 11,
      "outputs": [
        {
          "output_type": "display_data",
          "data": {
            "text/plain": [
              "<Figure size 432x288 with 1 Axes>"
            ],
            "image/png": "[encoded data removed]"
          },
          "metadata": {
            "needs_background": "light"
          }
        }
      ]
    },
    {
      "cell_type": "code",
      "source": [
        "from sklearn.model_selection import train_test_split\n",
        "from sklearn.preprocessing import StandardScaler\n",
        "import tensorflow\n",
        "from tensorflow import keras\n",
        "from tensorflow.keras import Sequential \n",
        "from tensorflow.keras.layers import Dense\n",
        "from tensorflow.keras.layers import BatchNormalization"
      ],
      "metadata": {
        "id": "2K7nbdpNd4zo"
      },
      "execution_count": 12,
      "outputs": []
    },
    {
      "cell_type": "code",
      "source": [
        "x = df.drop(columns='Outcome')\n",
        "y = df['Outcome']"
      ],
      "metadata": {
        "id": "OVk1R5d4eyyl"
      },
      "execution_count": 13,
      "outputs": []
    },
    {
      "cell_type": "code",
      "source": [
        "x.sample(3)"
      ],
      "metadata": {
        "colab": {
          "base_uri": "https://localhost:8080/",
          "height": 143
        },
        "id": "COTk5Y_De9UR",
        "outputId": "08d348cf-1dbe-4e60-bf04-aea4e7b9a325"
      },
      "execution_count": 14,
      "outputs": [
        {
          "output_type": "execute_result",
          "data": {
            "text/plain": [
              "     Pregnancies  Glucose  BloodPressure  SkinThickness  Insulin   BMI  \\\n",
              "765            5      121             72             23      112  26.2   \n",
              "130            4      173             70             14      168  29.7   \n",
              "255            1      113             64             35        0  33.6   \n",
              "\n",
              "     DiabetesPedigreeFunction  Age  \n",
              "765                     0.245   30  \n",
              "130                     0.361   33  \n",
              "255                     0.543   21  "
            ],
            "text/html": [
              "\n",
              "  <div id=\"df-aa3aa8e3-0cdf-489d-a4fa-eddf2956de14\">\n",
              "    <div class=\"colab-df-container\">\n",
              "      <div>\n",
              "<style scoped>\n",
              "    .dataframe tbody tr th:only-of-type {\n",
              "        vertical-align: middle;\n",
              "    }\n",
              "\n",
              "    .dataframe tbody tr th {\n",
              "        vertical-align: top;\n",
              "    }\n",
              "\n",
              "    .dataframe thead th {\n",
              "        text-align: right;\n",
              "    }\n",
              "</style>\n",
              "<table border=\"1\" class=\"dataframe\">\n",
              "  <thead>\n",
              "    <tr style=\"text-align: right;\">\n",
              "      <th></th>\n",
              "      <th>Pregnancies</th>\n",
              "      <th>Glucose</th>\n",
              "      <th>BloodPressure</th>\n",
              "      <th>SkinThickness</th>\n",
              "      <th>Insulin</th>\n",
              "      <th>BMI</th>\n",
              "      <th>DiabetesPedigreeFunction</th>\n",
              "      <th>Age</th>\n",
              "    </tr>\n",
              "  </thead>\n",
              "  <tbody>\n",
              "    <tr>\n",
              "      <th>765</th>\n",
              "      <td>5</td>\n",
              "      <td>121</td>\n",
              "      <td>72</td>\n",
              "      <td>23</td>\n",
              "      <td>112</td>\n",
              "      <td>26.2</td>\n",
              "      <td>0.245</td>\n",
              "      <td>30</td>\n",
              "    </tr>\n",
              "    <tr>\n",
              "      <th>130</th>\n",
              "      <td>4</td>\n",
              "      <td>173</td>\n",
              "      <td>70</td>\n",
              "      <td>14</td>\n",
              "      <td>168</td>\n",
              "      <td>29.7</td>\n",
              "      <td>0.361</td>\n",
              "      <td>33</td>\n",
              "    </tr>\n",
              "    <tr>\n",
              "      <th>255</th>\n",
              "      <td>1</td>\n",
              "      <td>113</td>\n",
              "      <td>64</td>\n",
              "      <td>35</td>\n",
              "      <td>0</td>\n",
              "      <td>33.6</td>\n",
              "      <td>0.543</td>\n",
              "      <td>21</td>\n",
              "    </tr>\n",
              "  </tbody>\n",
              "</table>\n",
              "</div>\n",
              "      <button class=\"colab-df-convert\" onclick=\"convertToInteractive('df-aa3aa8e3-0cdf-489d-a4fa-eddf2956de14')\"\n",
              "              title=\"Convert this dataframe to an interactive table.\"\n",
              "              style=\"display:none;\">\n",
              "        \n",
              "  <svg xmlns=\"http://www.w3.org/2000/svg\" height=\"24px\"viewBox=\"0 0 24 24\"\n",
              "       width=\"24px\">\n",
              "    <path d=\"M0 0h24v24H0V0z\" fill=\"none\"/>\n",
              "    <path d=\"M18.56 5.44l.94 2.06.94-2.06 2.06-.94-2.06-.94-.94-2.06-.94 2.06-2.06.94zm-11 1L8.5 8.5l.94-2.06 2.06-.94-2.06-.94L8.5 2.5l-.94 2.06-2.06.94zm10 10l.94 2.06.94-2.06 2.06-.94-2.06-.94-.94-2.06-.94 2.06-2.06.94z\"/><path d=\"M17.41 7.96l-1.37-1.37c-.4-.4-.92-.59-1.43-.59-.52 0-1.04.2-1.43.59L10.3 9.45l-7.72 7.72c-.78.78-.78 2.05 0 2.83L4 21.41c.39.39.9.59 1.41.59.51 0 1.02-.2 1.41-.59l7.78-7.78 2.81-2.81c.8-.78.8-2.07 0-2.86zM5.41 20L4 18.59l7.72-7.72 1.47 1.35L5.41 20z\"/>\n",
              "  </svg>\n",
              "      </button>\n",
              "      \n",
              "  <style>\n",
              "    .colab-df-container {\n",
              "      display:flex;\n",
              "      flex-wrap:wrap;\n",
              "      gap: 12px;\n",
              "    }\n",
              "\n",
              "    .colab-df-convert {\n",
              "      background-color: #E8F0FE;\n",
              "      border: none;\n",
              "      border-radius: 50%;\n",
              "      cursor: pointer;\n",
              "      display: none;\n",
              "      fill: #1967D2;\n",
              "      height: 32px;\n",
              "      padding: 0 0 0 0;\n",
              "      width: 32px;\n",
              "    }\n",
              "\n",
              "    .colab-df-convert:hover {\n",
              "      background-color: #E2EBFA;\n",
              "      box-shadow: 0px 1px 2px rgba(60, 64, 67, 0.3), 0px 1px 3px 1px rgba(60, 64, 67, 0.15);\n",
              "      fill: #174EA6;\n",
              "    }\n",
              "\n",
              "    [theme=dark] .colab-df-convert {\n",
              "      background-color: #3B4455;\n",
              "      fill: #D2E3FC;\n",
              "    }\n",
              "\n",
              "    [theme=dark] .colab-df-convert:hover {\n",
              "      background-color: #434B5C;\n",
              "      box-shadow: 0px 1px 3px 1px rgba(0, 0, 0, 0.15);\n",
              "      filter: drop-shadow(0px 1px 2px rgba(0, 0, 0, 0.3));\n",
              "      fill: #FFFFFF;\n",
              "    }\n",
              "  </style>\n",
              "\n",
              "      <script>\n",
              "        const buttonEl =\n",
              "          document.querySelector('#df-aa3aa8e3-0cdf-489d-a4fa-eddf2956de14 button.colab-df-convert');\n",
              "        buttonEl.style.display =\n",
              "          google.colab.kernel.accessAllowed ? 'block' : 'none';\n",
              "\n",
              "        async function convertToInteractive(key) {\n",
              "          const element = document.querySelector('#df-aa3aa8e3-0cdf-489d-a4fa-eddf2956de14');\n",
              "          const dataTable =\n",
              "            await google.colab.kernel.invokeFunction('convertToInteractive',\n",
              "                                                     [key], {});\n",
              "          if (!dataTable) return;\n",
              "\n",
              "          const docLinkHtml = 'Like what you see? Visit the ' +\n",
              "            '<a target=\"_blank\" href=https://colab.research.google.com/notebooks/data_table.ipynb>data table notebook</a>'\n",
              "            + ' to learn more about interactive tables.';\n",
              "          element.innerHTML = '';\n",
              "          dataTable['output_type'] = 'display_data';\n",
              "          await google.colab.output.renderOutput(dataTable, element);\n",
              "          const docLink = document.createElement('div');\n",
              "          docLink.innerHTML = docLinkHtml;\n",
              "          element.appendChild(docLink);\n",
              "        }\n",
              "      </script>\n",
              "    </div>\n",
              "  </div>\n",
              "  "
            ]
          },
          "metadata": {},
          "execution_count": 14
        }
      ]
    },
    {
      "cell_type": "code",
      "source": [
        "y.sample(3)"
      ],
      "metadata": {
        "colab": {
          "base_uri": "https://localhost:8080/"
        },
        "id": "Ktdz_NbNe_ng",
        "outputId": "a8d67175-42d8-40d9-ca0a-dde991257bf4"
      },
      "execution_count": 15,
      "outputs": [
        {
          "output_type": "execute_result",
          "data": {
            "text/plain": [
              "537    0\n",
              "546    1\n",
              "646    1\n",
              "Name: Outcome, dtype: int64"
            ]
          },
          "metadata": {},
          "execution_count": 15
        }
      ]
    },
    {
      "cell_type": "code",
      "source": [
        "x_train, x_test, y_train, y_test = train_test_split(x,y,test_size=0.2,random_state=10)"
      ],
      "metadata": {
        "id": "trh1BfuzeOqJ"
      },
      "execution_count": 16,
      "outputs": []
    },
    {
      "cell_type": "code",
      "source": [
        "x_train.head()"
      ],
      "metadata": {
        "colab": {
          "base_uri": "https://localhost:8080/",
          "height": 206
        },
        "id": "mJRp0nayfKb7",
        "outputId": "1184f668-4357-4076-ae62-70e830901c2d"
      },
      "execution_count": 17,
      "outputs": [
        {
          "output_type": "execute_result",
          "data": {
            "text/plain": [
              "     Pregnancies  Glucose  BloodPressure  SkinThickness  Insulin   BMI  \\\n",
              "120            0      162             76             56      100  53.2   \n",
              "172            2       87              0             23        0  28.9   \n",
              "307            0      137             68             14      148  24.8   \n",
              "7             10      115              0              0        0  35.3   \n",
              "448            0      104             64             37       64  33.6   \n",
              "\n",
              "     DiabetesPedigreeFunction  Age  \n",
              "120                     0.759   25  \n",
              "172                     0.773   25  \n",
              "307                     0.143   21  \n",
              "7                       0.134   29  \n",
              "448                     0.510   22  "
            ],
            "text/html": [
              "\n",
              "  <div id=\"df-e4625125-bdda-481c-963f-ba71c877d3c0\">\n",
              "    <div class=\"colab-df-container\">\n",
              "      <div>\n",
              "<style scoped>\n",
              "    .dataframe tbody tr th:only-of-type {\n",
              "        vertical-align: middle;\n",
              "    }\n",
              "\n",
              "    .dataframe tbody tr th {\n",
              "        vertical-align: top;\n",
              "    }\n",
              "\n",
              "    .dataframe thead th {\n",
              "        text-align: right;\n",
              "    }\n",
              "</style>\n",
              "<table border=\"1\" class=\"dataframe\">\n",
              "  <thead>\n",
              "    <tr style=\"text-align: right;\">\n",
              "      <th></th>\n",
              "      <th>Pregnancies</th>\n",
              "      <th>Glucose</th>\n",
              "      <th>BloodPressure</th>\n",
              "      <th>SkinThickness</th>\n",
              "      <th>Insulin</th>\n",
              "      <th>BMI</th>\n",
              "      <th>DiabetesPedigreeFunction</th>\n",
              "      <th>Age</th>\n",
              "    </tr>\n",
              "  </thead>\n",
              "  <tbody>\n",
              "    <tr>\n",
              "      <th>120</th>\n",
              "      <td>0</td>\n",
              "      <td>162</td>\n",
              "      <td>76</td>\n",
              "      <td>56</td>\n",
              "      <td>100</td>\n",
              "      <td>53.2</td>\n",
              "      <td>0.759</td>\n",
              "      <td>25</td>\n",
              "    </tr>\n",
              "    <tr>\n",
              "      <th>172</th>\n",
              "      <td>2</td>\n",
              "      <td>87</td>\n",
              "      <td>0</td>\n",
              "      <td>23</td>\n",
              "      <td>0</td>\n",
              "      <td>28.9</td>\n",
              "      <td>0.773</td>\n",
              "      <td>25</td>\n",
              "    </tr>\n",
              "    <tr>\n",
              "      <th>307</th>\n",
              "      <td>0</td>\n",
              "      <td>137</td>\n",
              "      <td>68</td>\n",
              "      <td>14</td>\n",
              "      <td>148</td>\n",
              "      <td>24.8</td>\n",
              "      <td>0.143</td>\n",
              "      <td>21</td>\n",
              "    </tr>\n",
              "    <tr>\n",
              "      <th>7</th>\n",
              "      <td>10</td>\n",
              "      <td>115</td>\n",
              "      <td>0</td>\n",
              "      <td>0</td>\n",
              "      <td>0</td>\n",
              "      <td>35.3</td>\n",
              "      <td>0.134</td>\n",
              "      <td>29</td>\n",
              "    </tr>\n",
              "    <tr>\n",
              "      <th>448</th>\n",
              "      <td>0</td>\n",
              "      <td>104</td>\n",
              "      <td>64</td>\n",
              "      <td>37</td>\n",
              "      <td>64</td>\n",
              "      <td>33.6</td>\n",
              "      <td>0.510</td>\n",
              "      <td>22</td>\n",
              "    </tr>\n",
              "  </tbody>\n",
              "</table>\n",
              "</div>\n",
              "      <button class=\"colab-df-convert\" onclick=\"convertToInteractive('df-e4625125-bdda-481c-963f-ba71c877d3c0')\"\n",
              "              title=\"Convert this dataframe to an interactive table.\"\n",
              "              style=\"display:none;\">\n",
              "        \n",
              "  <svg xmlns=\"http://www.w3.org/2000/svg\" height=\"24px\"viewBox=\"0 0 24 24\"\n",
              "       width=\"24px\">\n",
              "    <path d=\"M0 0h24v24H0V0z\" fill=\"none\"/>\n",
              "    <path d=\"M18.56 5.44l.94 2.06.94-2.06 2.06-.94-2.06-.94-.94-2.06-.94 2.06-2.06.94zm-11 1L8.5 8.5l.94-2.06 2.06-.94-2.06-.94L8.5 2.5l-.94 2.06-2.06.94zm10 10l.94 2.06.94-2.06 2.06-.94-2.06-.94-.94-2.06-.94 2.06-2.06.94z\"/><path d=\"M17.41 7.96l-1.37-1.37c-.4-.4-.92-.59-1.43-.59-.52 0-1.04.2-1.43.59L10.3 9.45l-7.72 7.72c-.78.78-.78 2.05 0 2.83L4 21.41c.39.39.9.59 1.41.59.51 0 1.02-.2 1.41-.59l7.78-7.78 2.81-2.81c.8-.78.8-2.07 0-2.86zM5.41 20L4 18.59l7.72-7.72 1.47 1.35L5.41 20z\"/>\n",
              "  </svg>\n",
              "      </button>\n",
              "      \n",
              "  <style>\n",
              "    .colab-df-container {\n",
              "      display:flex;\n",
              "      flex-wrap:wrap;\n",
              "      gap: 12px;\n",
              "    }\n",
              "\n",
              "    .colab-df-convert {\n",
              "      background-color: #E8F0FE;\n",
              "      border: none;\n",
              "      border-radius: 50%;\n",
              "      cursor: pointer;\n",
              "      display: none;\n",
              "      fill: #1967D2;\n",
              "      height: 32px;\n",
              "      padding: 0 0 0 0;\n",
              "      width: 32px;\n",
              "    }\n",
              "\n",
              "    .colab-df-convert:hover {\n",
              "      background-color: #E2EBFA;\n",
              "      box-shadow: 0px 1px 2px rgba(60, 64, 67, 0.3), 0px 1px 3px 1px rgba(60, 64, 67, 0.15);\n",
              "      fill: #174EA6;\n",
              "    }\n",
              "\n",
              "    [theme=dark] .colab-df-convert {\n",
              "      background-color: #3B4455;\n",
              "      fill: #D2E3FC;\n",
              "    }\n",
              "\n",
              "    [theme=dark] .colab-df-convert:hover {\n",
              "      background-color: #434B5C;\n",
              "      box-shadow: 0px 1px 3px 1px rgba(0, 0, 0, 0.15);\n",
              "      filter: drop-shadow(0px 1px 2px rgba(0, 0, 0, 0.3));\n",
              "      fill: #FFFFFF;\n",
              "    }\n",
              "  </style>\n",
              "\n",
              "      <script>\n",
              "        const buttonEl =\n",
              "          document.querySelector('#df-e4625125-bdda-481c-963f-ba71c877d3c0 button.colab-df-convert');\n",
              "        buttonEl.style.display =\n",
              "          google.colab.kernel.accessAllowed ? 'block' : 'none';\n",
              "\n",
              "        async function convertToInteractive(key) {\n",
              "          const element = document.querySelector('#df-e4625125-bdda-481c-963f-ba71c877d3c0');\n",
              "          const dataTable =\n",
              "            await google.colab.kernel.invokeFunction('convertToInteractive',\n",
              "                                                     [key], {});\n",
              "          if (!dataTable) return;\n",
              "\n",
              "          const docLinkHtml = 'Like what you see? Visit the ' +\n",
              "            '<a target=\"_blank\" href=https://colab.research.google.com/notebooks/data_table.ipynb>data table notebook</a>'\n",
              "            + ' to learn more about interactive tables.';\n",
              "          element.innerHTML = '';\n",
              "          dataTable['output_type'] = 'display_data';\n",
              "          await google.colab.output.renderOutput(dataTable, element);\n",
              "          const docLink = document.createElement('div');\n",
              "          docLink.innerHTML = docLinkHtml;\n",
              "          element.appendChild(docLink);\n",
              "        }\n",
              "      </script>\n",
              "    </div>\n",
              "  </div>\n",
              "  "
            ]
          },
          "metadata": {},
          "execution_count": 17
        }
      ]
    },
    {
      "cell_type": "code",
      "source": [
        "scaler = StandardScaler()\n",
        "\n",
        "x_train_scaler = scaler.fit_transform(x_train)\n",
        "x_test_scaler = scaler.transform(x_test)"
      ],
      "metadata": {
        "id": "00TmdE7ofN_R"
      },
      "execution_count": 18,
      "outputs": []
    },
    {
      "cell_type": "code",
      "source": [
        "x_train_scaler"
      ],
      "metadata": {
        "colab": {
          "base_uri": "https://localhost:8080/"
        },
        "id": "1iBMVHA-fujn",
        "outputId": "678026e8-e668-47a5-8ac0-72878b233aa4"
      },
      "execution_count": 19,
      "outputs": [
        {
          "output_type": "execute_result",
          "data": {
            "text/plain": [
              "array([[-1.1328442 ,  1.24373812,  0.3472366 , ...,  2.72776337,\n",
              "         0.90749721, -0.69845742],\n",
              "       [-0.54212969, -1.05209466, -3.48608463, ..., -0.36979162,\n",
              "         0.95037384, -0.69845742],\n",
              "       [-1.1328442 ,  0.47846052, -0.0562709 , ..., -0.89242436,\n",
              "        -0.97907465, -1.03881683],\n",
              "       ...,\n",
              "       [-0.24677243, -0.16437265,  0.24635973, ..., -0.70121726,\n",
              "        -1.08932885, -0.78354727],\n",
              "       [-0.83748694, -1.02148356, -1.97293151, ...,  2.95721189,\n",
              "         0.10202903, -0.61336757],\n",
              "       [ 0.34394208, -0.77659473,  0.24635973, ...,  0.22932395,\n",
              "         1.63639998,  0.83315992]])"
            ]
          },
          "metadata": {},
          "execution_count": 19
        }
      ]
    },
    {
      "cell_type": "code",
      "source": [
        "model = Sequential()\n",
        "\n",
        "model.add(Dense(10, input_dim=8, activation='relu'))\n",
        "# model.add(BatchNormalization())\n",
        "model.add(Dense(10, input_dim=8, activation='relu'))\n",
        "# model.add(BatchNormalization())\n",
        "# model.add(Dense(10, input_dim=8, activation='relu'))\n",
        "# model.add(BatchNormalization())\n",
        "# model.add(Dense(10, input_dim=8, activation='relu'))\n",
        "# model.add(BatchNormalization())\n",
        "model.add(Dense(1, activation='sigmoid'))"
      ],
      "metadata": {
        "id": "5eaPGogDf2PT"
      },
      "execution_count": 20,
      "outputs": []
    },
    {
      "cell_type": "code",
      "source": [
        "model.compile(optimizer='adam',loss='binary_crossentropy',metrics=['accuracy'])"
      ],
      "metadata": {
        "id": "tqrw98Ntf_6a"
      },
      "execution_count": 21,
      "outputs": []
    },
    {
      "cell_type": "code",
      "source": [
        "from tensorflow.keras.callbacks import EarlyStopping\n",
        "callback = EarlyStopping(\n",
        "    monitor=\"val_loss\",\n",
        "    min_delta=0.00001,\n",
        "    patience=20,\n",
        "    verbose=1,\n",
        "    mode=\"auto\",\n",
        "    baseline=None,\n",
        "    restore_best_weights=False\n",
        ")"
      ],
      "metadata": {
        "id": "ExAbCvU9hhpN"
      },
      "execution_count": 22,
      "outputs": []
    },
    {
      "cell_type": "code",
      "source": [
        "history = model.fit(x_train_scaler,y_train,batch_size=100,epochs=1000,verbose=1,validation_split=0.2,callbacks=callback)"
      ],
      "metadata": {
        "colab": {
          "base_uri": "https://localhost:8080/"
        },
        "id": "RntWAd0bglFu",
        "outputId": "302dd38b-dcdb-48b0-bd6c-c71d4066b8a6"
      },
      "execution_count": 23,
      "outputs": [
        {
          "output_type": "stream",
          "name": "stdout",
          "text": [
            "Epoch 1/1000\n",
            "5/5 [==============================] - 1s 47ms/step - loss: 0.7619 - accuracy: 0.4155 - val_loss: 0.7726 - val_accuracy: 0.3415\n",
            "Epoch 2/1000\n",
            "5/5 [==============================] - 0s 7ms/step - loss: 0.7419 - accuracy: 0.4460 - val_loss: 0.7562 - val_accuracy: 0.3496\n",
            "Epoch 3/1000\n",
            "5/5 [==============================] - 0s 7ms/step - loss: 0.7245 - accuracy: 0.4766 - val_loss: 0.7413 - val_accuracy: 0.3984\n",
            "Epoch 4/1000\n",
            "5/5 [==============================] - 0s 7ms/step - loss: 0.7084 - accuracy: 0.4969 - val_loss: 0.7277 - val_accuracy: 0.4472\n",
            "Epoch 5/1000\n",
            "5/5 [==============================] - 0s 7ms/step - loss: 0.6927 - accuracy: 0.5255 - val_loss: 0.7155 - val_accuracy: 0.4797\n",
            "Epoch 6/1000\n",
            "5/5 [==============================] - 0s 7ms/step - loss: 0.6783 - accuracy: 0.5642 - val_loss: 0.7041 - val_accuracy: 0.5122\n",
            "Epoch 7/1000\n",
            "5/5 [==============================] - 0s 9ms/step - loss: 0.6654 - accuracy: 0.6008 - val_loss: 0.6933 - val_accuracy: 0.5447\n",
            "Epoch 8/1000\n",
            "5/5 [==============================] - 0s 8ms/step - loss: 0.6537 - accuracy: 0.6232 - val_loss: 0.6827 - val_accuracy: 0.5610\n",
            "Epoch 9/1000\n",
            "5/5 [==============================] - 0s 7ms/step - loss: 0.6420 - accuracy: 0.6517 - val_loss: 0.6728 - val_accuracy: 0.5935\n",
            "Epoch 10/1000\n",
            "5/5 [==============================] - 0s 7ms/step - loss: 0.6315 - accuracy: 0.6823 - val_loss: 0.6632 - val_accuracy: 0.6423\n",
            "Epoch 11/1000\n",
            "5/5 [==============================] - 0s 9ms/step - loss: 0.6216 - accuracy: 0.7047 - val_loss: 0.6539 - val_accuracy: 0.6667\n",
            "Epoch 12/1000\n",
            "5/5 [==============================] - 0s 8ms/step - loss: 0.6120 - accuracy: 0.7128 - val_loss: 0.6449 - val_accuracy: 0.6829\n",
            "Epoch 13/1000\n",
            "5/5 [==============================] - 0s 7ms/step - loss: 0.6033 - accuracy: 0.7210 - val_loss: 0.6360 - val_accuracy: 0.6911\n",
            "Epoch 14/1000\n",
            "5/5 [==============================] - 0s 9ms/step - loss: 0.5944 - accuracy: 0.7291 - val_loss: 0.6275 - val_accuracy: 0.7154\n",
            "Epoch 15/1000\n",
            "5/5 [==============================] - 0s 9ms/step - loss: 0.5859 - accuracy: 0.7291 - val_loss: 0.6195 - val_accuracy: 0.7236\n",
            "Epoch 16/1000\n",
            "5/5 [==============================] - 0s 7ms/step - loss: 0.5780 - accuracy: 0.7352 - val_loss: 0.6116 - val_accuracy: 0.7398\n",
            "Epoch 17/1000\n",
            "5/5 [==============================] - 0s 11ms/step - loss: 0.5705 - accuracy: 0.7373 - val_loss: 0.6036 - val_accuracy: 0.7480\n",
            "Epoch 18/1000\n",
            "5/5 [==============================] - 0s 7ms/step - loss: 0.5631 - accuracy: 0.7352 - val_loss: 0.5960 - val_accuracy: 0.7480\n",
            "Epoch 19/1000\n",
            "5/5 [==============================] - 0s 7ms/step - loss: 0.5558 - accuracy: 0.7373 - val_loss: 0.5888 - val_accuracy: 0.7642\n",
            "Epoch 20/1000\n",
            "5/5 [==============================] - 0s 8ms/step - loss: 0.5497 - accuracy: 0.7373 - val_loss: 0.5814 - val_accuracy: 0.7724\n",
            "Epoch 21/1000\n",
            "5/5 [==============================] - 0s 7ms/step - loss: 0.5433 - accuracy: 0.7413 - val_loss: 0.5747 - val_accuracy: 0.7805\n",
            "Epoch 22/1000\n",
            "5/5 [==============================] - 0s 10ms/step - loss: 0.5376 - accuracy: 0.7475 - val_loss: 0.5680 - val_accuracy: 0.7886\n",
            "Epoch 23/1000\n",
            "5/5 [==============================] - 0s 7ms/step - loss: 0.5316 - accuracy: 0.7495 - val_loss: 0.5616 - val_accuracy: 0.7886\n",
            "Epoch 24/1000\n",
            "5/5 [==============================] - 0s 7ms/step - loss: 0.5266 - accuracy: 0.7515 - val_loss: 0.5553 - val_accuracy: 0.7886\n",
            "Epoch 25/1000\n",
            "5/5 [==============================] - 0s 8ms/step - loss: 0.5212 - accuracy: 0.7536 - val_loss: 0.5494 - val_accuracy: 0.7886\n",
            "Epoch 26/1000\n",
            "5/5 [==============================] - 0s 9ms/step - loss: 0.5168 - accuracy: 0.7536 - val_loss: 0.5438 - val_accuracy: 0.7886\n",
            "Epoch 27/1000\n",
            "5/5 [==============================] - 0s 8ms/step - loss: 0.5126 - accuracy: 0.7536 - val_loss: 0.5383 - val_accuracy: 0.7886\n",
            "Epoch 28/1000\n",
            "5/5 [==============================] - 0s 7ms/step - loss: 0.5083 - accuracy: 0.7515 - val_loss: 0.5333 - val_accuracy: 0.7886\n",
            "Epoch 29/1000\n",
            "5/5 [==============================] - 0s 7ms/step - loss: 0.5047 - accuracy: 0.7556 - val_loss: 0.5285 - val_accuracy: 0.7886\n",
            "Epoch 30/1000\n",
            "5/5 [==============================] - 0s 7ms/step - loss: 0.5009 - accuracy: 0.7637 - val_loss: 0.5243 - val_accuracy: 0.7886\n",
            "Epoch 31/1000\n",
            "5/5 [==============================] - 0s 7ms/step - loss: 0.4979 - accuracy: 0.7719 - val_loss: 0.5197 - val_accuracy: 0.7886\n",
            "Epoch 32/1000\n",
            "5/5 [==============================] - 0s 8ms/step - loss: 0.4947 - accuracy: 0.7739 - val_loss: 0.5156 - val_accuracy: 0.7886\n",
            "Epoch 33/1000\n",
            "5/5 [==============================] - 0s 8ms/step - loss: 0.4917 - accuracy: 0.7719 - val_loss: 0.5120 - val_accuracy: 0.7724\n",
            "Epoch 34/1000\n",
            "5/5 [==============================] - 0s 9ms/step - loss: 0.4892 - accuracy: 0.7719 - val_loss: 0.5084 - val_accuracy: 0.7724\n",
            "Epoch 35/1000\n",
            "5/5 [==============================] - 0s 12ms/step - loss: 0.4865 - accuracy: 0.7719 - val_loss: 0.5049 - val_accuracy: 0.7805\n",
            "Epoch 36/1000\n",
            "5/5 [==============================] - 0s 14ms/step - loss: 0.4843 - accuracy: 0.7739 - val_loss: 0.5018 - val_accuracy: 0.7805\n",
            "Epoch 37/1000\n",
            "5/5 [==============================] - 0s 16ms/step - loss: 0.4819 - accuracy: 0.7780 - val_loss: 0.4989 - val_accuracy: 0.7805\n",
            "Epoch 38/1000\n",
            "5/5 [==============================] - 0s 19ms/step - loss: 0.4800 - accuracy: 0.7739 - val_loss: 0.4962 - val_accuracy: 0.7805\n",
            "Epoch 39/1000\n",
            "5/5 [==============================] - 0s 15ms/step - loss: 0.4779 - accuracy: 0.7760 - val_loss: 0.4937 - val_accuracy: 0.7805\n",
            "Epoch 40/1000\n",
            "5/5 [==============================] - 0s 15ms/step - loss: 0.4760 - accuracy: 0.7800 - val_loss: 0.4914 - val_accuracy: 0.7805\n",
            "Epoch 41/1000\n",
            "5/5 [==============================] - 0s 10ms/step - loss: 0.4744 - accuracy: 0.7800 - val_loss: 0.4890 - val_accuracy: 0.7805\n",
            "Epoch 42/1000\n",
            "5/5 [==============================] - 0s 11ms/step - loss: 0.4727 - accuracy: 0.7800 - val_loss: 0.4872 - val_accuracy: 0.7805\n",
            "Epoch 43/1000\n",
            "5/5 [==============================] - 0s 18ms/step - loss: 0.4710 - accuracy: 0.7800 - val_loss: 0.4853 - val_accuracy: 0.7805\n",
            "Epoch 44/1000\n",
            "5/5 [==============================] - 0s 11ms/step - loss: 0.4696 - accuracy: 0.7800 - val_loss: 0.4831 - val_accuracy: 0.7724\n",
            "Epoch 45/1000\n",
            "5/5 [==============================] - 0s 14ms/step - loss: 0.4682 - accuracy: 0.7800 - val_loss: 0.4813 - val_accuracy: 0.7805\n",
            "Epoch 46/1000\n",
            "5/5 [==============================] - 0s 19ms/step - loss: 0.4669 - accuracy: 0.7800 - val_loss: 0.4796 - val_accuracy: 0.7886\n",
            "Epoch 47/1000\n",
            "5/5 [==============================] - 0s 11ms/step - loss: 0.4657 - accuracy: 0.7780 - val_loss: 0.4781 - val_accuracy: 0.7805\n",
            "Epoch 48/1000\n",
            "5/5 [==============================] - 0s 10ms/step - loss: 0.4647 - accuracy: 0.7780 - val_loss: 0.4763 - val_accuracy: 0.7805\n",
            "Epoch 49/1000\n",
            "5/5 [==============================] - 0s 10ms/step - loss: 0.4633 - accuracy: 0.7800 - val_loss: 0.4753 - val_accuracy: 0.7805\n",
            "Epoch 50/1000\n",
            "5/5 [==============================] - 0s 14ms/step - loss: 0.4624 - accuracy: 0.7800 - val_loss: 0.4740 - val_accuracy: 0.7805\n",
            "Epoch 51/1000\n",
            "5/5 [==============================] - 0s 11ms/step - loss: 0.4614 - accuracy: 0.7780 - val_loss: 0.4728 - val_accuracy: 0.7805\n",
            "Epoch 52/1000\n",
            "5/5 [==============================] - 0s 25ms/step - loss: 0.4604 - accuracy: 0.7780 - val_loss: 0.4721 - val_accuracy: 0.7805\n",
            "Epoch 53/1000\n",
            "5/5 [==============================] - 0s 12ms/step - loss: 0.4594 - accuracy: 0.7800 - val_loss: 0.4709 - val_accuracy: 0.7805\n",
            "Epoch 54/1000\n",
            "5/5 [==============================] - 0s 27ms/step - loss: 0.4586 - accuracy: 0.7800 - val_loss: 0.4698 - val_accuracy: 0.7805\n",
            "Epoch 55/1000\n",
            "5/5 [==============================] - 0s 12ms/step - loss: 0.4577 - accuracy: 0.7821 - val_loss: 0.4691 - val_accuracy: 0.7805\n",
            "Epoch 56/1000\n",
            "5/5 [==============================] - 0s 12ms/step - loss: 0.4568 - accuracy: 0.7780 - val_loss: 0.4682 - val_accuracy: 0.7805\n",
            "Epoch 57/1000\n",
            "5/5 [==============================] - 0s 11ms/step - loss: 0.4561 - accuracy: 0.7800 - val_loss: 0.4674 - val_accuracy: 0.7724\n",
            "Epoch 58/1000\n",
            "5/5 [==============================] - 0s 15ms/step - loss: 0.4553 - accuracy: 0.7821 - val_loss: 0.4668 - val_accuracy: 0.7642\n",
            "Epoch 59/1000\n",
            "5/5 [==============================] - 0s 16ms/step - loss: 0.4544 - accuracy: 0.7821 - val_loss: 0.4659 - val_accuracy: 0.7642\n",
            "Epoch 60/1000\n",
            "5/5 [==============================] - 0s 13ms/step - loss: 0.4539 - accuracy: 0.7821 - val_loss: 0.4649 - val_accuracy: 0.7642\n",
            "Epoch 61/1000\n",
            "5/5 [==============================] - 0s 12ms/step - loss: 0.4531 - accuracy: 0.7821 - val_loss: 0.4643 - val_accuracy: 0.7642\n",
            "Epoch 62/1000\n",
            "5/5 [==============================] - 0s 10ms/step - loss: 0.4523 - accuracy: 0.7821 - val_loss: 0.4636 - val_accuracy: 0.7642\n",
            "Epoch 63/1000\n",
            "5/5 [==============================] - 0s 10ms/step - loss: 0.4516 - accuracy: 0.7821 - val_loss: 0.4630 - val_accuracy: 0.7642\n",
            "Epoch 64/1000\n",
            "5/5 [==============================] - 0s 12ms/step - loss: 0.4508 - accuracy: 0.7841 - val_loss: 0.4625 - val_accuracy: 0.7642\n",
            "Epoch 65/1000\n",
            "5/5 [==============================] - 0s 17ms/step - loss: 0.4502 - accuracy: 0.7862 - val_loss: 0.4622 - val_accuracy: 0.7561\n",
            "Epoch 66/1000\n",
            "5/5 [==============================] - 0s 11ms/step - loss: 0.4494 - accuracy: 0.7882 - val_loss: 0.4616 - val_accuracy: 0.7724\n",
            "Epoch 67/1000\n",
            "5/5 [==============================] - 0s 24ms/step - loss: 0.4488 - accuracy: 0.7882 - val_loss: 0.4616 - val_accuracy: 0.7642\n",
            "Epoch 68/1000\n",
            "5/5 [==============================] - 0s 25ms/step - loss: 0.4481 - accuracy: 0.7882 - val_loss: 0.4611 - val_accuracy: 0.7642\n",
            "Epoch 69/1000\n",
            "5/5 [==============================] - 0s 11ms/step - loss: 0.4476 - accuracy: 0.7902 - val_loss: 0.4609 - val_accuracy: 0.7724\n",
            "Epoch 70/1000\n",
            "5/5 [==============================] - 0s 18ms/step - loss: 0.4468 - accuracy: 0.7902 - val_loss: 0.4608 - val_accuracy: 0.7724\n",
            "Epoch 71/1000\n",
            "5/5 [==============================] - 0s 11ms/step - loss: 0.4462 - accuracy: 0.7902 - val_loss: 0.4607 - val_accuracy: 0.7724\n",
            "Epoch 72/1000\n",
            "5/5 [==============================] - 0s 13ms/step - loss: 0.4455 - accuracy: 0.7902 - val_loss: 0.4606 - val_accuracy: 0.7724\n",
            "Epoch 73/1000\n",
            "5/5 [==============================] - 0s 17ms/step - loss: 0.4449 - accuracy: 0.7923 - val_loss: 0.4606 - val_accuracy: 0.7724\n",
            "Epoch 74/1000\n",
            "5/5 [==============================] - 0s 32ms/step - loss: 0.4443 - accuracy: 0.7923 - val_loss: 0.4600 - val_accuracy: 0.7724\n",
            "Epoch 75/1000\n",
            "5/5 [==============================] - 0s 15ms/step - loss: 0.4438 - accuracy: 0.7923 - val_loss: 0.4600 - val_accuracy: 0.7724\n",
            "Epoch 76/1000\n",
            "5/5 [==============================] - 0s 12ms/step - loss: 0.4431 - accuracy: 0.7923 - val_loss: 0.4599 - val_accuracy: 0.7724\n",
            "Epoch 77/1000\n",
            "5/5 [==============================] - 0s 18ms/step - loss: 0.4425 - accuracy: 0.7882 - val_loss: 0.4597 - val_accuracy: 0.7724\n",
            "Epoch 78/1000\n",
            "5/5 [==============================] - 0s 17ms/step - loss: 0.4420 - accuracy: 0.7882 - val_loss: 0.4596 - val_accuracy: 0.7805\n",
            "Epoch 79/1000\n",
            "5/5 [==============================] - 0s 13ms/step - loss: 0.4415 - accuracy: 0.7902 - val_loss: 0.4596 - val_accuracy: 0.7805\n",
            "Epoch 80/1000\n",
            "5/5 [==============================] - 0s 19ms/step - loss: 0.4410 - accuracy: 0.7841 - val_loss: 0.4594 - val_accuracy: 0.7805\n",
            "Epoch 81/1000\n",
            "5/5 [==============================] - 0s 10ms/step - loss: 0.4404 - accuracy: 0.7841 - val_loss: 0.4591 - val_accuracy: 0.7805\n",
            "Epoch 82/1000\n",
            "5/5 [==============================] - 0s 11ms/step - loss: 0.4398 - accuracy: 0.7841 - val_loss: 0.4590 - val_accuracy: 0.7805\n",
            "Epoch 83/1000\n",
            "5/5 [==============================] - 0s 13ms/step - loss: 0.4393 - accuracy: 0.7841 - val_loss: 0.4591 - val_accuracy: 0.7805\n",
            "Epoch 84/1000\n",
            "5/5 [==============================] - 0s 12ms/step - loss: 0.4387 - accuracy: 0.7841 - val_loss: 0.4589 - val_accuracy: 0.7805\n",
            "Epoch 85/1000\n",
            "5/5 [==============================] - 0s 23ms/step - loss: 0.4384 - accuracy: 0.7841 - val_loss: 0.4589 - val_accuracy: 0.7805\n",
            "Epoch 86/1000\n",
            "5/5 [==============================] - 0s 14ms/step - loss: 0.4377 - accuracy: 0.7841 - val_loss: 0.4586 - val_accuracy: 0.7805\n",
            "Epoch 87/1000\n",
            "5/5 [==============================] - 0s 16ms/step - loss: 0.4372 - accuracy: 0.7841 - val_loss: 0.4585 - val_accuracy: 0.7805\n",
            "Epoch 88/1000\n",
            "5/5 [==============================] - 0s 19ms/step - loss: 0.4368 - accuracy: 0.7841 - val_loss: 0.4582 - val_accuracy: 0.7724\n",
            "Epoch 89/1000\n",
            "5/5 [==============================] - 0s 12ms/step - loss: 0.4362 - accuracy: 0.7841 - val_loss: 0.4584 - val_accuracy: 0.7724\n",
            "Epoch 90/1000\n",
            "5/5 [==============================] - 0s 11ms/step - loss: 0.4358 - accuracy: 0.7841 - val_loss: 0.4583 - val_accuracy: 0.7724\n",
            "Epoch 91/1000\n",
            "5/5 [==============================] - 0s 13ms/step - loss: 0.4355 - accuracy: 0.7841 - val_loss: 0.4585 - val_accuracy: 0.7724\n",
            "Epoch 92/1000\n",
            "5/5 [==============================] - 0s 16ms/step - loss: 0.4348 - accuracy: 0.7841 - val_loss: 0.4582 - val_accuracy: 0.7724\n",
            "Epoch 93/1000\n",
            "5/5 [==============================] - 0s 17ms/step - loss: 0.4345 - accuracy: 0.7841 - val_loss: 0.4581 - val_accuracy: 0.7724\n",
            "Epoch 94/1000\n",
            "5/5 [==============================] - 0s 30ms/step - loss: 0.4340 - accuracy: 0.7841 - val_loss: 0.4581 - val_accuracy: 0.7724\n",
            "Epoch 95/1000\n",
            "5/5 [==============================] - 0s 16ms/step - loss: 0.4336 - accuracy: 0.7821 - val_loss: 0.4579 - val_accuracy: 0.7724\n",
            "Epoch 96/1000\n",
            "5/5 [==============================] - 0s 11ms/step - loss: 0.4331 - accuracy: 0.7800 - val_loss: 0.4580 - val_accuracy: 0.7724\n",
            "Epoch 97/1000\n",
            "5/5 [==============================] - 0s 21ms/step - loss: 0.4326 - accuracy: 0.7800 - val_loss: 0.4579 - val_accuracy: 0.7724\n",
            "Epoch 98/1000\n",
            "5/5 [==============================] - 0s 13ms/step - loss: 0.4322 - accuracy: 0.7800 - val_loss: 0.4580 - val_accuracy: 0.7724\n",
            "Epoch 99/1000\n",
            "5/5 [==============================] - 0s 34ms/step - loss: 0.4319 - accuracy: 0.7800 - val_loss: 0.4578 - val_accuracy: 0.7724\n",
            "Epoch 100/1000\n",
            "5/5 [==============================] - 0s 11ms/step - loss: 0.4314 - accuracy: 0.7800 - val_loss: 0.4576 - val_accuracy: 0.7724\n",
            "Epoch 101/1000\n",
            "5/5 [==============================] - 0s 14ms/step - loss: 0.4309 - accuracy: 0.7800 - val_loss: 0.4577 - val_accuracy: 0.7724\n",
            "Epoch 102/1000\n",
            "5/5 [==============================] - 0s 20ms/step - loss: 0.4306 - accuracy: 0.7841 - val_loss: 0.4576 - val_accuracy: 0.7724\n",
            "Epoch 103/1000\n",
            "5/5 [==============================] - 0s 15ms/step - loss: 0.4301 - accuracy: 0.7862 - val_loss: 0.4572 - val_accuracy: 0.7724\n",
            "Epoch 104/1000\n",
            "5/5 [==============================] - 0s 16ms/step - loss: 0.4296 - accuracy: 0.7862 - val_loss: 0.4569 - val_accuracy: 0.7724\n",
            "Epoch 105/1000\n",
            "5/5 [==============================] - 0s 21ms/step - loss: 0.4291 - accuracy: 0.7841 - val_loss: 0.4566 - val_accuracy: 0.7724\n",
            "Epoch 106/1000\n",
            "5/5 [==============================] - 0s 19ms/step - loss: 0.4287 - accuracy: 0.7841 - val_loss: 0.4567 - val_accuracy: 0.7724\n",
            "Epoch 107/1000\n",
            "5/5 [==============================] - 0s 12ms/step - loss: 0.4282 - accuracy: 0.7862 - val_loss: 0.4567 - val_accuracy: 0.7724\n",
            "Epoch 108/1000\n",
            "5/5 [==============================] - 0s 18ms/step - loss: 0.4280 - accuracy: 0.7841 - val_loss: 0.4567 - val_accuracy: 0.7724\n",
            "Epoch 109/1000\n",
            "5/5 [==============================] - 0s 13ms/step - loss: 0.4274 - accuracy: 0.7841 - val_loss: 0.4566 - val_accuracy: 0.7724\n",
            "Epoch 110/1000\n",
            "5/5 [==============================] - 0s 26ms/step - loss: 0.4270 - accuracy: 0.7841 - val_loss: 0.4567 - val_accuracy: 0.7724\n",
            "Epoch 111/1000\n",
            "5/5 [==============================] - 0s 18ms/step - loss: 0.4267 - accuracy: 0.7841 - val_loss: 0.4567 - val_accuracy: 0.7724\n",
            "Epoch 112/1000\n",
            "5/5 [==============================] - 0s 32ms/step - loss: 0.4262 - accuracy: 0.7862 - val_loss: 0.4568 - val_accuracy: 0.7724\n",
            "Epoch 113/1000\n",
            "5/5 [==============================] - 0s 24ms/step - loss: 0.4259 - accuracy: 0.7862 - val_loss: 0.4567 - val_accuracy: 0.7724\n",
            "Epoch 114/1000\n",
            "5/5 [==============================] - 0s 12ms/step - loss: 0.4255 - accuracy: 0.7923 - val_loss: 0.4563 - val_accuracy: 0.7724\n",
            "Epoch 115/1000\n",
            "5/5 [==============================] - 0s 10ms/step - loss: 0.4252 - accuracy: 0.7923 - val_loss: 0.4562 - val_accuracy: 0.7724\n",
            "Epoch 116/1000\n",
            "5/5 [==============================] - 0s 11ms/step - loss: 0.4248 - accuracy: 0.7923 - val_loss: 0.4560 - val_accuracy: 0.7724\n",
            "Epoch 117/1000\n",
            "5/5 [==============================] - 0s 13ms/step - loss: 0.4244 - accuracy: 0.7902 - val_loss: 0.4561 - val_accuracy: 0.7724\n",
            "Epoch 118/1000\n",
            "5/5 [==============================] - 0s 20ms/step - loss: 0.4241 - accuracy: 0.7902 - val_loss: 0.4560 - val_accuracy: 0.7724\n",
            "Epoch 119/1000\n",
            "5/5 [==============================] - 0s 11ms/step - loss: 0.4237 - accuracy: 0.7882 - val_loss: 0.4562 - val_accuracy: 0.7724\n",
            "Epoch 120/1000\n",
            "5/5 [==============================] - 0s 10ms/step - loss: 0.4233 - accuracy: 0.7902 - val_loss: 0.4562 - val_accuracy: 0.7724\n",
            "Epoch 121/1000\n",
            "5/5 [==============================] - 0s 11ms/step - loss: 0.4230 - accuracy: 0.7923 - val_loss: 0.4565 - val_accuracy: 0.7724\n",
            "Epoch 122/1000\n",
            "5/5 [==============================] - 0s 10ms/step - loss: 0.4227 - accuracy: 0.7923 - val_loss: 0.4567 - val_accuracy: 0.7724\n",
            "Epoch 123/1000\n",
            "5/5 [==============================] - 0s 19ms/step - loss: 0.4223 - accuracy: 0.7902 - val_loss: 0.4564 - val_accuracy: 0.7724\n",
            "Epoch 124/1000\n",
            "5/5 [==============================] - 0s 10ms/step - loss: 0.4219 - accuracy: 0.7902 - val_loss: 0.4567 - val_accuracy: 0.7724\n",
            "Epoch 125/1000\n",
            "5/5 [==============================] - 0s 10ms/step - loss: 0.4216 - accuracy: 0.7902 - val_loss: 0.4568 - val_accuracy: 0.7724\n",
            "Epoch 126/1000\n",
            "5/5 [==============================] - 0s 14ms/step - loss: 0.4213 - accuracy: 0.7902 - val_loss: 0.4569 - val_accuracy: 0.7724\n",
            "Epoch 127/1000\n",
            "5/5 [==============================] - 0s 21ms/step - loss: 0.4209 - accuracy: 0.7902 - val_loss: 0.4571 - val_accuracy: 0.7724\n",
            "Epoch 128/1000\n",
            "5/5 [==============================] - 0s 18ms/step - loss: 0.4208 - accuracy: 0.7862 - val_loss: 0.4573 - val_accuracy: 0.7724\n",
            "Epoch 129/1000\n",
            "5/5 [==============================] - 0s 26ms/step - loss: 0.4204 - accuracy: 0.7882 - val_loss: 0.4573 - val_accuracy: 0.7724\n",
            "Epoch 130/1000\n",
            "5/5 [==============================] - 0s 11ms/step - loss: 0.4200 - accuracy: 0.7882 - val_loss: 0.4573 - val_accuracy: 0.7724\n",
            "Epoch 131/1000\n",
            "5/5 [==============================] - 0s 10ms/step - loss: 0.4197 - accuracy: 0.7902 - val_loss: 0.4573 - val_accuracy: 0.7724\n",
            "Epoch 132/1000\n",
            "5/5 [==============================] - 0s 10ms/step - loss: 0.4194 - accuracy: 0.7902 - val_loss: 0.4576 - val_accuracy: 0.7724\n",
            "Epoch 133/1000\n",
            "5/5 [==============================] - 0s 10ms/step - loss: 0.4190 - accuracy: 0.7902 - val_loss: 0.4579 - val_accuracy: 0.7724\n",
            "Epoch 134/1000\n",
            "5/5 [==============================] - 0s 11ms/step - loss: 0.4187 - accuracy: 0.7902 - val_loss: 0.4581 - val_accuracy: 0.7642\n",
            "Epoch 135/1000\n",
            "5/5 [==============================] - 0s 12ms/step - loss: 0.4185 - accuracy: 0.7902 - val_loss: 0.4580 - val_accuracy: 0.7642\n",
            "Epoch 136/1000\n",
            "5/5 [==============================] - 0s 30ms/step - loss: 0.4182 - accuracy: 0.7902 - val_loss: 0.4580 - val_accuracy: 0.7642\n",
            "Epoch 137/1000\n",
            "5/5 [==============================] - 0s 11ms/step - loss: 0.4179 - accuracy: 0.7923 - val_loss: 0.4578 - val_accuracy: 0.7642\n",
            "Epoch 138/1000\n",
            "5/5 [==============================] - 0s 12ms/step - loss: 0.4176 - accuracy: 0.7923 - val_loss: 0.4580 - val_accuracy: 0.7642\n",
            "Epoch 138: early stopping\n"
          ]
        }
      ]
    },
    {
      "cell_type": "code",
      "source": [
        "y_log = model.predict(x_test_scaler)"
      ],
      "metadata": {
        "id": "VwQp-07Kgu1e"
      },
      "execution_count": 31,
      "outputs": []
    },
    {
      "cell_type": "code",
      "source": [
        "y_log"
      ],
      "metadata": {
        "id": "1nUEF40EiuhC"
      },
      "execution_count": null,
      "outputs": []
    },
    {
      "cell_type": "code",
      "source": [
        "y_pred = np.where(y_log>0.5,1,0)"
      ],
      "metadata": {
        "id": "tvsfclariwAp"
      },
      "execution_count": 26,
      "outputs": []
    },
    {
      "cell_type": "code",
      "source": [
        "y_pred"
      ],
      "metadata": {
        "id": "AOY8dNwuizi6"
      },
      "execution_count": null,
      "outputs": []
    },
    {
      "cell_type": "code",
      "source": [
        "from sklearn.metrics import accuracy_score\n",
        "accuracy_score(y_test,y_pred)"
      ],
      "metadata": {
        "colab": {
          "base_uri": "https://localhost:8080/"
        },
        "id": "ODr8bz8Oi1aQ",
        "outputId": "4a093a83-c7cd-4238-b083-48d3bc9e20e2"
      },
      "execution_count": 28,
      "outputs": [
        {
          "output_type": "execute_result",
          "data": {
            "text/plain": [
              "0.7337662337662337"
            ]
          },
          "metadata": {},
          "execution_count": 28
        }
      ]
    },
    {
      "cell_type": "code",
      "source": [
        "import matplotlib.pyplot as plt\n",
        "\n",
        "plt.plot(history.history['loss'])\n",
        "plt.plot(history.history['val_loss'])"
      ],
      "metadata": {
        "colab": {
          "base_uri": "https://localhost:8080/",
          "height": 282
        },
        "id": "pVv2Bhhni5Vq",
        "outputId": "0bc1ef86-ff21-4e52-c5d5-941c3bde179a"
      },
      "execution_count": 29,
      "outputs": [
        {
          "output_type": "execute_result",
          "data": {
            "text/plain": [
              "[<matplotlib.lines.Line2D at 0x7f69601f8490>]"
            ]
          },
          "metadata": {},
          "execution_count": 29
        },
        {
          "output_type": "display_data",
          "data": {
            "text/plain": [
              "<Figure size 432x288 with 1 Axes>"
            ],
            "image/png": "[encoded data removed]"
          },
          "metadata": {
            "needs_background": "light"
          }
        }
      ]
    },
    {
      "cell_type": "code",
      "source": [
        "plt.plot(history.history['accuracy'])\n",
        "plt.plot(history.history['val_accuracy'])"
      ],
      "metadata": {
        "colab": {
          "base_uri": "https://localhost:8080/",
          "height": 282
        },
        "id": "fwG9B6b8i81r",
        "outputId": "251d943e-6bbd-4617-f34d-87f0e6438558"
      },
      "execution_count": 30,
      "outputs": [
        {
          "output_type": "execute_result",
          "data": {
            "text/plain": [
              "[<matplotlib.lines.Line2D at 0x7f69601efb90>]"
            ]
          },
          "metadata": {},
          "execution_count": 30
        },
        {
          "output_type": "display_data",
          "data": {
            "text/plain": [
              "<Figure size 432x288 with 1 Axes>"
            ],
            "image/png": "[encoded data removed]"
          },
          "metadata": {
            "needs_background": "light"
          }
        }
      ]
    },
    {
      "cell_type": "code",
      "source": [],
      "metadata": {
        "id": "09eaZBkSlIfj"
      },
      "execution_count": null,
      "outputs": []
    }
  ]
}