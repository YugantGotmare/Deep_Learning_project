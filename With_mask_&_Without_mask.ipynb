{
  "nbformat": 4,
  "nbformat_minor": 0,
  "metadata": {
    "colab": {
      "provenance": [],
      "collapsed_sections": [],
      "include_colab_link": true
    },
    "kernelspec": {
      "name": "python3",
      "display_name": "Python 3"
    },
    "language_info": {
      "name": "python"
    },
    "accelerator": "GPU"
  },
  "cells": [
    {
      "cell_type": "markdown",
      "metadata": {
        "id": "view-in-github",
        "colab_type": "text"
      },
      "source": [
        "<a href=\"https://colab.research.google.com/github/YugantGotmare/Deep_learning_project/blob/main/With_mask_%26_Without_mask.ipynb\" target=\"_parent\"><img src=\"https://colab.research.google.com/assets/colab-badge.svg\" alt=\"Open In Colab\"/></a>"
      ]
    },
    {
      "cell_type": "code",
      "execution_count": null,
      "metadata": {
        "colab": {
          "base_uri": "https://localhost:8080/"
        },
        "id": "NBrDdTKL6L0g",
        "outputId": "26b5f5c9-de24-4445-9c20-b1056cf91295"
      },
      "outputs": [
        {
          "output_type": "stream",
          "name": "stdout",
          "text": [
            "Mounted at /content/gdrive\n"
          ]
        }
      ],
      "source": [
        "from google.colab import drive\n",
        "drive.mount(\"/content/gdrive\")"
      ]
    },
    {
      "cell_type": "code",
      "source": [
        "import tensorflow as tf\n",
        "import os\n",
        "import cv2\n",
        "import imghdr\n",
        "import numpy as np\n",
        "from matplotlib import pyplot as plt\n",
        "from tensorflow.keras.models import Sequential\n",
        "from tensorflow.keras.layers import Conv2D, MaxPooling2D, Dense, Flatten, Dropout, BatchNormalization\n",
        "import keras"
      ],
      "metadata": {
        "id": "-6Ia_f2O7hgO"
      },
      "execution_count": null,
      "outputs": []
    },
    {
      "cell_type": "code",
      "source": [
        "data_dir = '/content/gdrive/MyDrive/mask data'\n",
        "data = tf.keras.utils.image_dataset_from_directory('/content/gdrive/MyDrive/mask data')\n",
        "with_mask_data=r'/content/gdrive/MyDrive/mask data/with_mask'\n",
        "without_mask_data=r'/content/gdrive/MyDrive/mask data/without_mask'"
      ],
      "metadata": {
        "id": "zS-Ivx2q8ZnG",
        "colab": {
          "base_uri": "https://localhost:8080/"
        },
        "outputId": "0c9e24af-204e-4739-ab4b-17ea59f53825"
      },
      "execution_count": null,
      "outputs": [
        {
          "output_type": "stream",
          "name": "stdout",
          "text": [
            "Found 7558 files belonging to 2 classes.\n"
          ]
        }
      ]
    },
    {
      "cell_type": "code",
      "source": [
        "image_exts = ['jpeg','jpg', 'bmp', 'png']"
      ],
      "metadata": {
        "id": "5rWLybj6R42T"
      },
      "execution_count": null,
      "outputs": []
    },
    {
      "cell_type": "code",
      "source": [
        "for image_class in os.listdir(data_dir): \n",
        "    for image in os.listdir(os.path.join(data_dir, image_class)):\n",
        "        image_path = os.path.join(data_dir, image_class, image)\n",
        "        try: \n",
        "            img = cv2.imread(image_path)\n",
        "            tip = imghdr.what(image_path)\n",
        "            if tip not in image_exts: \n",
        "                print('Image not in ext list {}'.format(image_path))\n",
        "                os.remove(image_path)\n",
        "        except Exception as e: \n",
        "            print('Issue with image {}'.format(image_path))"
      ],
      "metadata": {
        "id": "sHFWIr1pR9Ry"
      },
      "execution_count": null,
      "outputs": []
    },
    {
      "cell_type": "code",
      "source": [
        "len(data)"
      ],
      "metadata": {
        "colab": {
          "base_uri": "https://localhost:8080/"
        },
        "id": "OWRrPFBaTTgb",
        "outputId": "924f52f0-e236-4034-e18d-5a7f72ed3f3f"
      },
      "execution_count": null,
      "outputs": [
        {
          "output_type": "execute_result",
          "data": {
            "text/plain": [
              "237"
            ]
          },
          "metadata": {},
          "execution_count": 6
        }
      ]
    },
    {
      "cell_type": "code",
      "source": [
        "train_size = int(len(data)*.7)+1\n",
        "val_size = int(len(data)*.2)+1\n",
        "test_size = int(len(data)*.1)"
      ],
      "metadata": {
        "id": "P7iD0pZXTVp6"
      },
      "execution_count": null,
      "outputs": []
    },
    {
      "cell_type": "code",
      "source": [
        "train_size"
      ],
      "metadata": {
        "colab": {
          "base_uri": "https://localhost:8080/"
        },
        "id": "2pPcqBJ-TViX",
        "outputId": "e0a71e66-a804-43de-f30e-5157e96f6223"
      },
      "execution_count": null,
      "outputs": [
        {
          "output_type": "execute_result",
          "data": {
            "text/plain": [
              "166"
            ]
          },
          "metadata": {},
          "execution_count": 8
        }
      ]
    },
    {
      "cell_type": "code",
      "source": [
        "val_size"
      ],
      "metadata": {
        "colab": {
          "base_uri": "https://localhost:8080/"
        },
        "id": "o4J6WcjRTaz2",
        "outputId": "38372b84-5e77-4f8a-b756-58dd779bebff"
      },
      "execution_count": null,
      "outputs": [
        {
          "output_type": "execute_result",
          "data": {
            "text/plain": [
              "48"
            ]
          },
          "metadata": {},
          "execution_count": 9
        }
      ]
    },
    {
      "cell_type": "code",
      "source": [
        "test_size"
      ],
      "metadata": {
        "colab": {
          "base_uri": "https://localhost:8080/"
        },
        "id": "gFan0fy9Tauc",
        "outputId": "cb0bff4e-3c34-440d-88a0-78b5ee8c44cb"
      },
      "execution_count": null,
      "outputs": [
        {
          "output_type": "execute_result",
          "data": {
            "text/plain": [
              "23"
            ]
          },
          "metadata": {},
          "execution_count": 10
        }
      ]
    },
    {
      "cell_type": "code",
      "source": [
        "train = data.take(train_size)  #14\n",
        "val = data.skip(train_size).take(val_size)  #skip starting 14 then take 4 based on val_size\n",
        "test = data.skip(train_size+val_size).take(test_size)"
      ],
      "metadata": {
        "id": "AHkLxT3FTpVk"
      },
      "execution_count": null,
      "outputs": []
    },
    {
      "cell_type": "code",
      "source": [
        "def process(image,label):\n",
        "    image = tf.cast(image/255. ,tf.float32)\n",
        "    return image,label\n",
        "\n",
        "train_df = train.map(process)\n",
        "validation_df = val.map(process)"
      ],
      "metadata": {
        "id": "_AbUYEkbU1t3"
      },
      "execution_count": null,
      "outputs": []
    },
    {
      "cell_type": "code",
      "source": [
        "from keras.applications.vgg16 import VGG16\n",
        "from keras.applications.vgg16 import preprocess_input\n",
        "from keras.models import Model\n",
        "from keras.applications.vgg16 import preprocess_input"
      ],
      "metadata": {
        "id": "-EfgnHJODygF"
      },
      "execution_count": null,
      "outputs": []
    },
    {
      "cell_type": "code",
      "source": [
        "vgg = VGG16(input_shape=[256,256] + [3], weights='imagenet', include_top=False)"
      ],
      "metadata": {
        "id": "EOAWpL9mEBEa",
        "colab": {
          "base_uri": "https://localhost:8080/"
        },
        "outputId": "32735442-0f44-4234-b1ff-e3632c7c8814"
      },
      "execution_count": null,
      "outputs": [
        {
          "output_type": "stream",
          "name": "stdout",
          "text": [
            "Downloading data from https://storage.googleapis.com/tensorflow/keras-applications/vgg16/vgg16_weights_tf_dim_ordering_tf_kernels_notop.h5\n",
            "58889256/58889256 [==============================] - 1s 0us/step\n"
          ]
        }
      ]
    },
    {
      "cell_type": "code",
      "source": [
        "vgg.input"
      ],
      "metadata": {
        "colab": {
          "base_uri": "https://localhost:8080/"
        },
        "id": "5SVdNAsYEDMm",
        "outputId": "77eafb95-c8bc-42b7-f164-bd6c68509e7e"
      },
      "execution_count": null,
      "outputs": [
        {
          "output_type": "execute_result",
          "data": {
            "text/plain": [
              "<KerasTensor: shape=(None, 256, 256, 3) dtype=float32 (created by layer 'input_1')>"
            ]
          },
          "metadata": {},
          "execution_count": 15
        }
      ]
    },
    {
      "cell_type": "code",
      "source": [
        "for layer in vgg.layers:\n",
        "  layer.trainable = False"
      ],
      "metadata": {
        "id": "vtb9haHDEFYu"
      },
      "execution_count": null,
      "outputs": []
    },
    {
      "cell_type": "code",
      "source": [
        "x = Flatten()(vgg.output)\n",
        "prediction = tf.keras.layers.Dense(10, activation = 'softmax')(x)\n",
        "model_vgg = Model(inputs=vgg.input, outputs=prediction)\n",
        "model_vgg.summary()"
      ],
      "metadata": {
        "colab": {
          "base_uri": "https://localhost:8080/"
        },
        "id": "3jSsh-KAEHZs",
        "outputId": "bef31c07-e0ec-4600-9c47-c96a06784c2b"
      },
      "execution_count": null,
      "outputs": [
        {
          "output_type": "stream",
          "name": "stdout",
          "text": [
            "Model: \"model\"\n",
            "_________________________________________________________________\n",
            " Layer (type)                Output Shape              Param #   \n",
            "=================================================================\n",
            " input_1 (InputLayer)        [(None, 256, 256, 3)]     0         \n",
            "                                                                 \n",
            " block1_conv1 (Conv2D)       (None, 256, 256, 64)      1792      \n",
            "                                                                 \n",
            " block1_conv2 (Conv2D)       (None, 256, 256, 64)      36928     \n",
            "                                                                 \n",
            " block1_pool (MaxPooling2D)  (None, 128, 128, 64)      0         \n",
            "                                                                 \n",
            " block2_conv1 (Conv2D)       (None, 128, 128, 128)     73856     \n",
            "                                                                 \n",
            " block2_conv2 (Conv2D)       (None, 128, 128, 128)     147584    \n",
            "                                                                 \n",
            " block2_pool (MaxPooling2D)  (None, 64, 64, 128)       0         \n",
            "                                                                 \n",
            " block3_conv1 (Conv2D)       (None, 64, 64, 256)       295168    \n",
            "                                                                 \n",
            " block3_conv2 (Conv2D)       (None, 64, 64, 256)       590080    \n",
            "                                                                 \n",
            " block3_conv3 (Conv2D)       (None, 64, 64, 256)       590080    \n",
            "                                                                 \n",
            " block3_pool (MaxPooling2D)  (None, 32, 32, 256)       0         \n",
            "                                                                 \n",
            " block4_conv1 (Conv2D)       (None, 32, 32, 512)       1180160   \n",
            "                                                                 \n",
            " block4_conv2 (Conv2D)       (None, 32, 32, 512)       2359808   \n",
            "                                                                 \n",
            " block4_conv3 (Conv2D)       (None, 32, 32, 512)       2359808   \n",
            "                                                                 \n",
            " block4_pool (MaxPooling2D)  (None, 16, 16, 512)       0         \n",
            "                                                                 \n",
            " block5_conv1 (Conv2D)       (None, 16, 16, 512)       2359808   \n",
            "                                                                 \n",
            " block5_conv2 (Conv2D)       (None, 16, 16, 512)       2359808   \n",
            "                                                                 \n",
            " block5_conv3 (Conv2D)       (None, 16, 16, 512)       2359808   \n",
            "                                                                 \n",
            " block5_pool (MaxPooling2D)  (None, 8, 8, 512)         0         \n",
            "                                                                 \n",
            " flatten (Flatten)           (None, 32768)             0         \n",
            "                                                                 \n",
            " dense (Dense)               (None, 10)                327690    \n",
            "                                                                 \n",
            "=================================================================\n",
            "Total params: 15,042,378\n",
            "Trainable params: 327,690\n",
            "Non-trainable params: 14,714,688\n",
            "_________________________________________________________________\n"
          ]
        }
      ]
    },
    {
      "cell_type": "code",
      "source": [
        "model_vgg.compile(optimizer='adam',loss = tf.keras.losses.SparseCategoricalCrossentropy(from_logits=True),\n",
        "              metrics=['accuracy'])"
      ],
      "metadata": {
        "id": "YmqT1aJzEJks"
      },
      "execution_count": null,
      "outputs": []
    },
    {
      "cell_type": "code",
      "source": [
        "from keras.callbacks import ModelCheckpoint, EarlyStopping\n",
        "early = EarlyStopping(monitor='val_accuracy', min_delta=0.01, patience=3, verbose=1, mode='auto')\n",
        "\n",
        "check = ModelCheckpoint(monitor='val_accuracy',filepath=\"./bestmodel.h5\", save_best_only=True, verbose=1, mode='auto')\n",
        "\n",
        "call = [early,check]"
      ],
      "metadata": {
        "id": "x6yhgaqNENCd"
      },
      "execution_count": null,
      "outputs": []
    },
    {
      "cell_type": "code",
      "source": [
        "vgg_history = model_vgg.fit(train_df,epochs=20,validation_data=validation_df,callbacks=call)"
      ],
      "metadata": {
        "id": "hQgzYB1QJbFy",
        "colab": {
          "base_uri": "https://localhost:8080/"
        },
        "outputId": "1cf9a03c-071c-4b26-b874-51107aea6e00"
      },
      "execution_count": null,
      "outputs": [
        {
          "output_type": "stream",
          "name": "stdout",
          "text": [
            "Epoch 1/20\n"
          ]
        },
        {
          "output_type": "stream",
          "name": "stderr",
          "text": [
            "/usr/local/lib/python3.7/dist-packages/tensorflow/python/util/dispatch.py:1082: UserWarning: \"`sparse_categorical_crossentropy` received `from_logits=True`, but the `output` argument was produced by a sigmoid or softmax activation and thus does not represent logits. Was this intended?\"\n",
            "  return dispatch_target(*args, **kwargs)\n"
          ]
        },
        {
          "output_type": "stream",
          "name": "stdout",
          "text": [
            "166/166 [==============================] - ETA: 0s - loss: 0.1680 - accuracy: 0.9298\n",
            "Epoch 1: val_accuracy improved from -inf to 0.97070, saving model to ./bestmodel.h5\n",
            "166/166 [==============================] - 68s 336ms/step - loss: 0.1680 - accuracy: 0.9298 - val_loss: 0.0712 - val_accuracy: 0.9707\n",
            "Epoch 2/20\n",
            "166/166 [==============================] - ETA: 0s - loss: 0.0311 - accuracy: 0.9900\n",
            "Epoch 2: val_accuracy improved from 0.97070 to 0.97591, saving model to ./bestmodel.h5\n",
            "166/166 [==============================] - 58s 347ms/step - loss: 0.0311 - accuracy: 0.9900 - val_loss: 0.0719 - val_accuracy: 0.9759\n",
            "Epoch 3/20\n",
            "166/166 [==============================] - ETA: 0s - loss: 0.0152 - accuracy: 0.9974\n",
            "Epoch 3: val_accuracy did not improve from 0.97591\n",
            "166/166 [==============================] - 58s 345ms/step - loss: 0.0152 - accuracy: 0.9974 - val_loss: 0.0830 - val_accuracy: 0.9661\n",
            "Epoch 4/20\n",
            "166/166 [==============================] - ETA: 0s - loss: 0.0067 - accuracy: 0.9996\n",
            "Epoch 4: val_accuracy improved from 0.97591 to 0.97656, saving model to ./bestmodel.h5\n",
            "166/166 [==============================] - 58s 348ms/step - loss: 0.0067 - accuracy: 0.9996 - val_loss: 0.0665 - val_accuracy: 0.9766\n",
            "Epoch 4: early stopping\n"
          ]
        }
      ]
    },
    {
      "cell_type": "code",
      "source": [
        "import matplotlib.pyplot as plt\n",
        "\n",
        "plt.plot(vgg_history.history['accuracy'],color='red',label='train')\n",
        "plt.plot(vgg_history.history['val_accuracy'],color='blue',label='validation')\n",
        "plt.legend()\n",
        "plt.show()"
      ],
      "metadata": {
        "id": "7jMWADPFLTur",
        "colab": {
          "base_uri": "https://localhost:8080/",
          "height": 265
        },
        "outputId": "bfdbb981-bb03-4073-b718-db7697de8160"
      },
      "execution_count": null,
      "outputs": [
        {
          "output_type": "display_data",
          "data": {
            "text/plain": [
              "<Figure size 432x288 with 1 Axes>"
            ],
            "image/png": "[encoded data removed]"
          },
          "metadata": {
            "needs_background": "light"
          }
        }
      ]
    },
    {
      "cell_type": "code",
      "source": [
        "plt.plot(vgg_history.history['loss'],color='red',label='train')\n",
        "plt.plot(vgg_history.history['val_loss'],color='blue',label='validation')\n",
        "plt.legend()\n",
        "plt.show()"
      ],
      "metadata": {
        "colab": {
          "base_uri": "https://localhost:8080/",
          "height": 265
        },
        "id": "mfeDhh9iV4sA",
        "outputId": "d1b35495-ffd1-4fff-8cea-76d484cf9bab"
      },
      "execution_count": null,
      "outputs": [
        {
          "output_type": "display_data",
          "data": {
            "text/plain": [
              "<Figure size 432x288 with 1 Axes>"
            ],
            "image/png": "[encoded data removed]"
          },
          "metadata": {
            "needs_background": "light"
          }
        }
      ]
    },
    {
      "cell_type": "code",
      "source": [
        "# import pickle"
      ],
      "metadata": {
        "id": "XEsoj98-LCDn"
      },
      "execution_count": null,
      "outputs": []
    },
    {
      "cell_type": "code",
      "source": [
        "# pickle.dump(model_vgg,open('model_vgg.pkl','wb'))"
      ],
      "metadata": {
        "id": "msu3fg6yLCAY"
      },
      "execution_count": null,
      "outputs": []
    },
    {
      "cell_type": "code",
      "source": [],
      "metadata": {
        "id": "TSE2ik4NxutG"
      },
      "execution_count": null,
      "outputs": []
    }
  ]
}