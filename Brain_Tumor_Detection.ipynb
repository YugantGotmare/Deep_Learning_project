{
  "nbformat": 4,
  "nbformat_minor": 0,
  "metadata": {
    "colab": {
      "provenance": [],
      "collapsed_sections": [],
      "authorship_tag": "ABX9TyPXAJ/VWCGIT44I9OoQvDO6",
      "include_colab_link": true
    },
    "kernelspec": {
      "name": "python3",
      "display_name": "Python 3"
    },
    "language_info": {
      "name": "python"
    },
    "accelerator": "GPU"
  },
  "cells": [
    {
      "cell_type": "markdown",
      "metadata": {
        "id": "view-in-github",
        "colab_type": "text"
      },
      "source": [
        "<a href=\"https://colab.research.google.com/github/YugantGotmare/Deep_learning_project/blob/main/Brain_Tumor_Detection.ipynb\" target=\"_parent\"><img src=\"https://colab.research.google.com/assets/colab-badge.svg\" alt=\"Open In Colab\"/></a>"
      ]
    },
    {
      "cell_type": "code",
      "execution_count": 214,
      "metadata": {
        "colab": {
          "base_uri": "https://localhost:8080/"
        },
        "id": "O3G-qPRXbsKd",
        "outputId": "207121d4-9087-42a5-971f-2c9a038d1f8a"
      },
      "outputs": [
        {
          "output_type": "stream",
          "name": "stdout",
          "text": [
            "Drive already mounted at /content/gdrive; to attempt to forcibly remount, call drive.mount(\"/content/gdrive\", force_remount=True).\n"
          ]
        }
      ],
      "source": [
        "from google.colab import drive\n",
        "drive.mount(\"/content/gdrive\")"
      ]
    },
    {
      "cell_type": "code",
      "source": [
        "import tensorflow as tf\n",
        "import os\n",
        "import cv2\n",
        "import imghdr\n",
        "import numpy as np\n",
        "from matplotlib import pyplot as plt\n",
        "from tensorflow.keras.models import Sequential\n",
        "from tensorflow.keras.layers import Conv2D, MaxPooling2D, Dense, Flatten, Dropout, BatchNormalization\n",
        "from keras.callbacks import ModelCheckpoint, EarlyStopping\n",
        "from keras.preprocessing import image\n",
        "import keras"
      ],
      "metadata": {
        "id": "1nMsbUoqcqKD"
      },
      "execution_count": 215,
      "outputs": []
    },
    {
      "cell_type": "code",
      "source": [
        "data_dir = '/content/gdrive/MyDrive/Data' "
      ],
      "metadata": {
        "id": "w94e1K0fdEuE"
      },
      "execution_count": 216,
      "outputs": []
    },
    {
      "cell_type": "code",
      "source": [
        "data = tf.keras.utils.image_dataset_from_directory('/content/gdrive/MyDrive/data/Data2')"
      ],
      "metadata": {
        "colab": {
          "base_uri": "https://localhost:8080/"
        },
        "id": "hUEyEFQ-dIna",
        "outputId": "a0e413db-9ba9-4c85-ede2-76f737559642"
      },
      "execution_count": 219,
      "outputs": [
        {
          "output_type": "stream",
          "name": "stdout",
          "text": [
            "Found 585 files belonging to 2 classes.\n"
          ]
        }
      ]
    },
    {
      "cell_type": "code",
      "source": [
        "train_size = int(len(data)*.7)\n",
        "val_size = int(len(data)*.2)\n",
        "test_size = int(len(data)*.1)"
      ],
      "metadata": {
        "id": "U-2b2wkldcaN"
      },
      "execution_count": 220,
      "outputs": []
    },
    {
      "cell_type": "code",
      "source": [
        "train = data.take(train_size)\n",
        "val = data.skip(train_size).take(val_size)\n",
        "test = data.skip(train_size+val_size).take(test_size)"
      ],
      "metadata": {
        "id": "MtoPKq57dmA0"
      },
      "execution_count": 221,
      "outputs": []
    },
    {
      "cell_type": "code",
      "source": [
        "# Normalize\n",
        "def process(image,label):\n",
        "    image = tf.cast(image/255. ,tf.float32)\n",
        "    return image,label\n",
        "\n",
        "train_df = train.map(process)\n",
        "validation_df = val.map(process)"
      ],
      "metadata": {
        "id": "yRAxVydqdSbc"
      },
      "execution_count": 222,
      "outputs": []
    },
    {
      "cell_type": "code",
      "source": [
        "model = Sequential()\n",
        "\n",
        "model.add(Conv2D(16, (3,3), 1, activation='relu', input_shape=(256,256,3)))\n",
        "model.add(MaxPooling2D())\n",
        "\n",
        "model.add(Conv2D(36, (3,3), 1, activation='relu'))\n",
        "model.add(MaxPooling2D())\n",
        "\n",
        "model.add(Conv2D(64, (3,3), 1, activation='relu'))\n",
        "model.add(MaxPooling2D())\n",
        "\n",
        "model.add(Conv2D(128, (3,3), 1, activation='relu'))\n",
        "model.add(MaxPooling2D())\n",
        "\n",
        "model.add(Dropout(rate=0.1))\n",
        "\n",
        "\n",
        "model.add(Flatten())\n",
        "model.add(Dense(64, activation='relu'))\n",
        "model.add(Dropout(rate=0.1))\n",
        "model.add(Dense(1, activation='sigmoid'))"
      ],
      "metadata": {
        "id": "s4tFd5SfdWHE"
      },
      "execution_count": 223,
      "outputs": []
    },
    {
      "cell_type": "code",
      "source": [
        "model.summary()"
      ],
      "metadata": {
        "colab": {
          "base_uri": "https://localhost:8080/"
        },
        "id": "qTP0sKkmdzrT",
        "outputId": "263707d0-ca12-4c07-928a-d235fba6e7a8"
      },
      "execution_count": 224,
      "outputs": [
        {
          "output_type": "stream",
          "name": "stdout",
          "text": [
            "Model: \"sequential_11\"\n",
            "_________________________________________________________________\n",
            " Layer (type)                Output Shape              Param #   \n",
            "=================================================================\n",
            " conv2d_43 (Conv2D)          (None, 254, 254, 16)      448       \n",
            "                                                                 \n",
            " max_pooling2d_42 (MaxPoolin  (None, 127, 127, 16)     0         \n",
            " g2D)                                                            \n",
            "                                                                 \n",
            " conv2d_44 (Conv2D)          (None, 125, 125, 36)      5220      \n",
            "                                                                 \n",
            " max_pooling2d_43 (MaxPoolin  (None, 62, 62, 36)       0         \n",
            " g2D)                                                            \n",
            "                                                                 \n",
            " conv2d_45 (Conv2D)          (None, 60, 60, 64)        20800     \n",
            "                                                                 \n",
            " max_pooling2d_44 (MaxPoolin  (None, 30, 30, 64)       0         \n",
            " g2D)                                                            \n",
            "                                                                 \n",
            " conv2d_46 (Conv2D)          (None, 28, 28, 128)       73856     \n",
            "                                                                 \n",
            " max_pooling2d_45 (MaxPoolin  (None, 14, 14, 128)      0         \n",
            " g2D)                                                            \n",
            "                                                                 \n",
            " dropout_12 (Dropout)        (None, 14, 14, 128)       0         \n",
            "                                                                 \n",
            " flatten_11 (Flatten)        (None, 25088)             0         \n",
            "                                                                 \n",
            " dense_22 (Dense)            (None, 64)                1605696   \n",
            "                                                                 \n",
            " dropout_13 (Dropout)        (None, 64)                0         \n",
            "                                                                 \n",
            " dense_23 (Dense)            (None, 1)                 65        \n",
            "                                                                 \n",
            "=================================================================\n",
            "Total params: 1,706,085\n",
            "Trainable params: 1,706,085\n",
            "Non-trainable params: 0\n",
            "_________________________________________________________________\n"
          ]
        }
      ]
    },
    {
      "cell_type": "code",
      "source": [
        "model.compile(optimizer='adam',loss='binary_crossentropy',metrics=['accuracy'])"
      ],
      "metadata": {
        "id": "j91JzYzkd3VU"
      },
      "execution_count": 225,
      "outputs": []
    },
    {
      "cell_type": "code",
      "source": [
        "early = EarlyStopping(monitor='val_accuracy', min_delta=0.01, patience=3, verbose=1, mode='auto')\n",
        "\n",
        "check = ModelCheckpoint(monitor='val_accuracy',filepath=\"./bestmodel.h5\", save_best_only=True, verbose=1, mode='auto')\n",
        "\n",
        "call = [early,check]"
      ],
      "metadata": {
        "id": "SuRetE36teQ0"
      },
      "execution_count": 226,
      "outputs": []
    },
    {
      "cell_type": "code",
      "source": [
        "history = model.fit(train,epochs=20,validation_data=val,callbacks=call)"
      ],
      "metadata": {
        "colab": {
          "base_uri": "https://localhost:8080/"
        },
        "id": "hfiM-f_Wd6fl",
        "outputId": "bfc491df-38ef-4005-8ba8-ffc47a2203a7"
      },
      "execution_count": 227,
      "outputs": [
        {
          "output_type": "stream",
          "name": "stdout",
          "text": [
            "Epoch 1/20\n",
            "13/13 [==============================] - ETA: 0s - loss: 27.3222 - accuracy: 0.6370\n",
            "Epoch 1: val_accuracy improved from -inf to 0.73958, saving model to ./bestmodel.h5\n",
            "13/13 [==============================] - 5s 274ms/step - loss: 27.3222 - accuracy: 0.6370 - val_loss: 0.7481 - val_accuracy: 0.7396\n",
            "Epoch 2/20\n",
            "13/13 [==============================] - ETA: 0s - loss: 1.2403 - accuracy: 0.5841\n",
            "Epoch 2: val_accuracy did not improve from 0.73958\n",
            "13/13 [==============================] - 4s 257ms/step - loss: 1.2403 - accuracy: 0.5841 - val_loss: 0.4964 - val_accuracy: 0.7292\n",
            "Epoch 3/20\n",
            "13/13 [==============================] - ETA: 0s - loss: 0.5619 - accuracy: 0.7260\n",
            "Epoch 3: val_accuracy improved from 0.73958 to 0.79167, saving model to ./bestmodel.h5\n",
            "13/13 [==============================] - 4s 261ms/step - loss: 0.5619 - accuracy: 0.7260 - val_loss: 0.4200 - val_accuracy: 0.7917\n",
            "Epoch 4/20\n",
            "13/13 [==============================] - ETA: 0s - loss: 0.4470 - accuracy: 0.7837\n",
            "Epoch 4: val_accuracy improved from 0.79167 to 0.81250, saving model to ./bestmodel.h5\n",
            "13/13 [==============================] - 4s 264ms/step - loss: 0.4470 - accuracy: 0.7837 - val_loss: 0.4331 - val_accuracy: 0.8125\n",
            "Epoch 5/20\n",
            "13/13 [==============================] - ETA: 0s - loss: 0.3898 - accuracy: 0.8173\n",
            "Epoch 5: val_accuracy improved from 0.81250 to 0.88542, saving model to ./bestmodel.h5\n",
            "13/13 [==============================] - 4s 265ms/step - loss: 0.3898 - accuracy: 0.8173 - val_loss: 0.3408 - val_accuracy: 0.8854\n",
            "Epoch 6/20\n",
            "13/13 [==============================] - ETA: 0s - loss: 0.2925 - accuracy: 0.8726\n",
            "Epoch 6: val_accuracy improved from 0.88542 to 0.91667, saving model to ./bestmodel.h5\n",
            "13/13 [==============================] - 4s 264ms/step - loss: 0.2925 - accuracy: 0.8726 - val_loss: 0.2024 - val_accuracy: 0.9167\n",
            "Epoch 7/20\n",
            "13/13 [==============================] - ETA: 0s - loss: 0.2618 - accuracy: 0.8798\n",
            "Epoch 7: val_accuracy did not improve from 0.91667\n",
            "13/13 [==============================] - 4s 264ms/step - loss: 0.2618 - accuracy: 0.8798 - val_loss: 0.1826 - val_accuracy: 0.9167\n",
            "Epoch 8/20\n",
            "13/13 [==============================] - ETA: 0s - loss: 0.2325 - accuracy: 0.9087\n",
            "Epoch 8: val_accuracy improved from 0.91667 to 0.92708, saving model to ./bestmodel.h5\n",
            "13/13 [==============================] - 4s 262ms/step - loss: 0.2325 - accuracy: 0.9087 - val_loss: 0.2346 - val_accuracy: 0.9271\n",
            "Epoch 9/20\n",
            "13/13 [==============================] - ETA: 0s - loss: 0.1656 - accuracy: 0.9447\n",
            "Epoch 9: val_accuracy improved from 0.92708 to 0.98958, saving model to ./bestmodel.h5\n",
            "13/13 [==============================] - 4s 270ms/step - loss: 0.1656 - accuracy: 0.9447 - val_loss: 0.0897 - val_accuracy: 0.9896\n",
            "Epoch 10/20\n",
            "13/13 [==============================] - ETA: 0s - loss: 0.1719 - accuracy: 0.9303\n",
            "Epoch 10: val_accuracy did not improve from 0.98958\n",
            "13/13 [==============================] - 4s 261ms/step - loss: 0.1719 - accuracy: 0.9303 - val_loss: 0.1235 - val_accuracy: 0.9688\n",
            "Epoch 11/20\n",
            "13/13 [==============================] - ETA: 0s - loss: 0.1361 - accuracy: 0.9543\n",
            "Epoch 11: val_accuracy did not improve from 0.98958\n",
            "13/13 [==============================] - 4s 259ms/step - loss: 0.1361 - accuracy: 0.9543 - val_loss: 0.1016 - val_accuracy: 0.9792\n",
            "Epoch 12/20\n",
            "13/13 [==============================] - ETA: 0s - loss: 0.1241 - accuracy: 0.9615\n",
            "Epoch 12: val_accuracy did not improve from 0.98958\n",
            "13/13 [==============================] - 4s 264ms/step - loss: 0.1241 - accuracy: 0.9615 - val_loss: 0.1113 - val_accuracy: 0.9583\n",
            "Epoch 12: early stopping\n"
          ]
        }
      ]
    },
    {
      "cell_type": "code",
      "source": [
        "plt.plot(history.history['accuracy'],color='red',label='train')\n",
        "plt.plot(history.history['val_accuracy'],color='blue',label='validation')\n",
        "plt.legend()\n",
        "plt.show()"
      ],
      "metadata": {
        "colab": {
          "base_uri": "https://localhost:8080/",
          "height": 265
        },
        "id": "8R0DdzYFd_vl",
        "outputId": "aeed08e0-1bf4-4387-c1c2-6d56b3b96717"
      },
      "execution_count": 228,
      "outputs": [
        {
          "output_type": "display_data",
          "data": {
            "text/plain": [
              "<Figure size 432x288 with 1 Axes>"
            ],
            "image/png": "[encoded data removed]"
          },
          "metadata": {
            "needs_background": "light"
          }
        }
      ]
    },
    {
      "cell_type": "code",
      "source": [
        "plt.plot(history.history['loss'],color='red',label='train')\n",
        "plt.plot(history.history['val_loss'],color='blue',label='validation')\n",
        "plt.legend()\n",
        "plt.show()"
      ],
      "metadata": {
        "colab": {
          "base_uri": "https://localhost:8080/",
          "height": 265
        },
        "id": "r9guPC1KewAp",
        "outputId": "935e5f7a-e5ce-4103-925f-e55d653787d3"
      },
      "execution_count": 229,
      "outputs": [
        {
          "output_type": "display_data",
          "data": {
            "text/plain": [
              "<Figure size 432x288 with 1 Axes>"
            ],
            "image/png": "[encoded data removed]"
          },
          "metadata": {
            "needs_background": "light"
          }
        }
      ]
    },
    {
      "cell_type": "code",
      "source": [
        "accuracy = model.evaluate(test)[1] * 100\n",
        "print(\"Accuracy:\",accuracy)"
      ],
      "metadata": {
        "colab": {
          "base_uri": "https://localhost:8080/"
        },
        "id": "Z3Cptk7khBE4",
        "outputId": "e8b5fe24-925b-4127-81f8-999298ccd970"
      },
      "execution_count": 230,
      "outputs": [
        {
          "output_type": "stream",
          "name": "stdout",
          "text": [
            "1/1 [==============================] - 2s 2s/step - loss: 0.1020 - accuracy: 0.9688\n",
            "Accuracy: 96.875\n"
          ]
        }
      ]
    },
    {
      "cell_type": "code",
      "source": [
        "img = keras.preprocessing.image.load_img(\n",
        "    \"/content/tumor.png\", target_size=(256,256)\n",
        ")\n",
        "img_array = keras.preprocessing.image.img_to_array(img)\n",
        "img_array = tf.expand_dims(img_array, 0) \n",
        "\n",
        "predictions = model.predict(img_array)\n",
        "score = predictions[0]\n",
        "print(\n",
        "    \"This image is %.2f percent tumor and %.2f percent no tumor.\"\n",
        "    % (100 * (1 - score), 100 * score)\n",
        ")"
      ],
      "metadata": {
        "colab": {
          "base_uri": "https://localhost:8080/"
        },
        "id": "xVXtEtVsoOZJ",
        "outputId": "dbe3539d-a257-4503-911a-597c1bddb0b0"
      },
      "execution_count": 239,
      "outputs": [
        {
          "output_type": "stream",
          "name": "stdout",
          "text": [
            "This image is 6.09 percent tumor and 93.91 percent no tumor.\n"
          ]
        }
      ]
    },
    {
      "cell_type": "code",
      "source": [],
      "metadata": {
        "id": "ksTzMEfajnRR"
      },
      "execution_count": 231,
      "outputs": []
    }
  ]
}